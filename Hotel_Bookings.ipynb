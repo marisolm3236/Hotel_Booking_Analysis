{
  "nbformat": 4,
  "nbformat_minor": 0,
  "metadata": {
    "colab": {
      "name": "Hotel_Bookings.ipynb",
      "provenance": [],
      "collapsed_sections": [
        "5GdOj0dLF6UM",
        "-12a3CZvGGyi",
        "QlKgYgDkwmUZ",
        "CbcMoUIqUo_8",
        "NfnmZd3nSeew",
        "NkBJ0WIJC99U",
        "INCEs-XFsJ-X",
        "r2Gj8-EbsNJm",
        "ZsLiF94Q2lSe",
        "J5e800SqXTKp"
      ],
      "include_colab_link": true
    },
    "kernelspec": {
      "display_name": "Python 3",
      "name": "python3"
    }
  },
  "cells": [
    {
      "cell_type": "markdown",
      "metadata": {
        "id": "view-in-github",
        "colab_type": "text"
      },
      "source": [
        "<a href=\"https://colab.research.google.com/github/marisolm3236/Hotel_Booking_Analysis/blob/main/Hotel_Bookings.ipynb\" target=\"_parent\"><img src=\"https://colab.research.google.com/assets/colab-badge.svg\" alt=\"Open In Colab\"/></a>"
      ]
    },
    {
      "cell_type": "markdown",
      "metadata": {
        "id": "36PyeUJj6MSm"
      },
      "source": [
        "# Hotel Bookings\n",
        "\n",
        "The goals for this notebook are to explore and analyze what causes a hotel booking to cancel. Once we are able to determine this, we then will use the important features to make a few models. Finally, we will ensemble these models to get the best working model."
      ]
    },
    {
      "cell_type": "markdown",
      "metadata": {
        "id": "5GdOj0dLF6UM"
      },
      "source": [
        "### Importing and Loading the data"
      ]
    },
    {
      "cell_type": "code",
      "metadata": {
        "id": "mO6Bm5u8-oBi",
        "outputId": "5f8734c2-a886-4472-90ee-6364239598cf",
        "colab": {
          "base_uri": "https://localhost:8080/"
        }
      },
      "source": [
        "import pandas as pd\n",
        "import numpy as np\n",
        "import seaborn as sns\n",
        "\n",
        "from sklearn.linear_model import LogisticRegression\n",
        "from sklearn.metrics import classification_report\n",
        "from sklearn.neighbors import KNeighborsClassifier\n",
        "from sklearn.preprocessing import LabelEncoder\n",
        "from sklearn.preprocessing import StandardScaler\n",
        "from sklearn import preprocessing\n",
        "from sklearn.preprocessing import LabelEncoder\n",
        "from sklearn.metrics import accuracy_score\n",
        "from sklearn.metrics import classification_report, confusion_matrix\n",
        "from matplotlib import pyplot as plt\n",
        "from sklearn.model_selection import train_test_split\n",
        "\n",
        "import plotly.express as px\n",
        "import plotly.graph_objects as go\n",
        "import plotly.figure_factory as ff\n",
        "from plotly.colors import n_colors\n",
        "from plotly.subplots import make_subplots\n",
        "from sklearn.preprocessing import MinMaxScaler\n",
        "\n",
        "from google.colab import drive\n",
        "drive.mount('/content/drive')\n",
        "drive_dir = '/content/drive/My Drive/Project3_HotelBookings/'"
      ],
      "execution_count": null,
      "outputs": [
        {
          "output_type": "stream",
          "text": [
            "Mounted at /content/drive\n"
          ],
          "name": "stdout"
        }
      ]
    },
    {
      "cell_type": "code",
      "metadata": {
        "id": "U6hk_90b_s7x",
        "outputId": "a0d5bad8-9cb0-436c-99fa-9b556139d989",
        "colab": {
          "base_uri": "https://localhost:8080/",
          "height": 309
        }
      },
      "source": [
        "df = pd.read_csv(drive_dir + 'Data/hotel_bookings.csv')\n",
        "df.head()"
      ],
      "execution_count": null,
      "outputs": [
        {
          "output_type": "execute_result",
          "data": {
            "text/html": [
              "<div>\n",
              "<style scoped>\n",
              "    .dataframe tbody tr th:only-of-type {\n",
              "        vertical-align: middle;\n",
              "    }\n",
              "\n",
              "    .dataframe tbody tr th {\n",
              "        vertical-align: top;\n",
              "    }\n",
              "\n",
              "    .dataframe thead th {\n",
              "        text-align: right;\n",
              "    }\n",
              "</style>\n",
              "<table border=\"1\" class=\"dataframe\">\n",
              "  <thead>\n",
              "    <tr style=\"text-align: right;\">\n",
              "      <th></th>\n",
              "      <th>hotel</th>\n",
              "      <th>is_canceled</th>\n",
              "      <th>lead_time</th>\n",
              "      <th>arrival_date_year</th>\n",
              "      <th>arrival_date_month</th>\n",
              "      <th>arrival_date_week_number</th>\n",
              "      <th>arrival_date_day_of_month</th>\n",
              "      <th>stays_in_weekend_nights</th>\n",
              "      <th>stays_in_week_nights</th>\n",
              "      <th>adults</th>\n",
              "      <th>children</th>\n",
              "      <th>babies</th>\n",
              "      <th>meal</th>\n",
              "      <th>country</th>\n",
              "      <th>market_segment</th>\n",
              "      <th>distribution_channel</th>\n",
              "      <th>is_repeated_guest</th>\n",
              "      <th>previous_cancellations</th>\n",
              "      <th>previous_bookings_not_canceled</th>\n",
              "      <th>reserved_room_type</th>\n",
              "      <th>assigned_room_type</th>\n",
              "      <th>booking_changes</th>\n",
              "      <th>deposit_type</th>\n",
              "      <th>agent</th>\n",
              "      <th>company</th>\n",
              "      <th>days_in_waiting_list</th>\n",
              "      <th>customer_type</th>\n",
              "      <th>adr</th>\n",
              "      <th>required_car_parking_spaces</th>\n",
              "      <th>total_of_special_requests</th>\n",
              "      <th>reservation_status</th>\n",
              "      <th>reservation_status_date</th>\n",
              "    </tr>\n",
              "  </thead>\n",
              "  <tbody>\n",
              "    <tr>\n",
              "      <th>0</th>\n",
              "      <td>Resort Hotel</td>\n",
              "      <td>0</td>\n",
              "      <td>342</td>\n",
              "      <td>2015</td>\n",
              "      <td>July</td>\n",
              "      <td>27</td>\n",
              "      <td>1</td>\n",
              "      <td>0</td>\n",
              "      <td>0</td>\n",
              "      <td>2</td>\n",
              "      <td>0.0</td>\n",
              "      <td>0</td>\n",
              "      <td>BB</td>\n",
              "      <td>PRT</td>\n",
              "      <td>Direct</td>\n",
              "      <td>Direct</td>\n",
              "      <td>0</td>\n",
              "      <td>0</td>\n",
              "      <td>0</td>\n",
              "      <td>C</td>\n",
              "      <td>C</td>\n",
              "      <td>3</td>\n",
              "      <td>No Deposit</td>\n",
              "      <td>NaN</td>\n",
              "      <td>NaN</td>\n",
              "      <td>0</td>\n",
              "      <td>Transient</td>\n",
              "      <td>0.0</td>\n",
              "      <td>0</td>\n",
              "      <td>0</td>\n",
              "      <td>Check-Out</td>\n",
              "      <td>2015-07-01</td>\n",
              "    </tr>\n",
              "    <tr>\n",
              "      <th>1</th>\n",
              "      <td>Resort Hotel</td>\n",
              "      <td>0</td>\n",
              "      <td>737</td>\n",
              "      <td>2015</td>\n",
              "      <td>July</td>\n",
              "      <td>27</td>\n",
              "      <td>1</td>\n",
              "      <td>0</td>\n",
              "      <td>0</td>\n",
              "      <td>2</td>\n",
              "      <td>0.0</td>\n",
              "      <td>0</td>\n",
              "      <td>BB</td>\n",
              "      <td>PRT</td>\n",
              "      <td>Direct</td>\n",
              "      <td>Direct</td>\n",
              "      <td>0</td>\n",
              "      <td>0</td>\n",
              "      <td>0</td>\n",
              "      <td>C</td>\n",
              "      <td>C</td>\n",
              "      <td>4</td>\n",
              "      <td>No Deposit</td>\n",
              "      <td>NaN</td>\n",
              "      <td>NaN</td>\n",
              "      <td>0</td>\n",
              "      <td>Transient</td>\n",
              "      <td>0.0</td>\n",
              "      <td>0</td>\n",
              "      <td>0</td>\n",
              "      <td>Check-Out</td>\n",
              "      <td>2015-07-01</td>\n",
              "    </tr>\n",
              "    <tr>\n",
              "      <th>2</th>\n",
              "      <td>Resort Hotel</td>\n",
              "      <td>0</td>\n",
              "      <td>7</td>\n",
              "      <td>2015</td>\n",
              "      <td>July</td>\n",
              "      <td>27</td>\n",
              "      <td>1</td>\n",
              "      <td>0</td>\n",
              "      <td>1</td>\n",
              "      <td>1</td>\n",
              "      <td>0.0</td>\n",
              "      <td>0</td>\n",
              "      <td>BB</td>\n",
              "      <td>GBR</td>\n",
              "      <td>Direct</td>\n",
              "      <td>Direct</td>\n",
              "      <td>0</td>\n",
              "      <td>0</td>\n",
              "      <td>0</td>\n",
              "      <td>A</td>\n",
              "      <td>C</td>\n",
              "      <td>0</td>\n",
              "      <td>No Deposit</td>\n",
              "      <td>NaN</td>\n",
              "      <td>NaN</td>\n",
              "      <td>0</td>\n",
              "      <td>Transient</td>\n",
              "      <td>75.0</td>\n",
              "      <td>0</td>\n",
              "      <td>0</td>\n",
              "      <td>Check-Out</td>\n",
              "      <td>2015-07-02</td>\n",
              "    </tr>\n",
              "    <tr>\n",
              "      <th>3</th>\n",
              "      <td>Resort Hotel</td>\n",
              "      <td>0</td>\n",
              "      <td>13</td>\n",
              "      <td>2015</td>\n",
              "      <td>July</td>\n",
              "      <td>27</td>\n",
              "      <td>1</td>\n",
              "      <td>0</td>\n",
              "      <td>1</td>\n",
              "      <td>1</td>\n",
              "      <td>0.0</td>\n",
              "      <td>0</td>\n",
              "      <td>BB</td>\n",
              "      <td>GBR</td>\n",
              "      <td>Corporate</td>\n",
              "      <td>Corporate</td>\n",
              "      <td>0</td>\n",
              "      <td>0</td>\n",
              "      <td>0</td>\n",
              "      <td>A</td>\n",
              "      <td>A</td>\n",
              "      <td>0</td>\n",
              "      <td>No Deposit</td>\n",
              "      <td>304.0</td>\n",
              "      <td>NaN</td>\n",
              "      <td>0</td>\n",
              "      <td>Transient</td>\n",
              "      <td>75.0</td>\n",
              "      <td>0</td>\n",
              "      <td>0</td>\n",
              "      <td>Check-Out</td>\n",
              "      <td>2015-07-02</td>\n",
              "    </tr>\n",
              "    <tr>\n",
              "      <th>4</th>\n",
              "      <td>Resort Hotel</td>\n",
              "      <td>0</td>\n",
              "      <td>14</td>\n",
              "      <td>2015</td>\n",
              "      <td>July</td>\n",
              "      <td>27</td>\n",
              "      <td>1</td>\n",
              "      <td>0</td>\n",
              "      <td>2</td>\n",
              "      <td>2</td>\n",
              "      <td>0.0</td>\n",
              "      <td>0</td>\n",
              "      <td>BB</td>\n",
              "      <td>GBR</td>\n",
              "      <td>Online TA</td>\n",
              "      <td>TA/TO</td>\n",
              "      <td>0</td>\n",
              "      <td>0</td>\n",
              "      <td>0</td>\n",
              "      <td>A</td>\n",
              "      <td>A</td>\n",
              "      <td>0</td>\n",
              "      <td>No Deposit</td>\n",
              "      <td>240.0</td>\n",
              "      <td>NaN</td>\n",
              "      <td>0</td>\n",
              "      <td>Transient</td>\n",
              "      <td>98.0</td>\n",
              "      <td>0</td>\n",
              "      <td>1</td>\n",
              "      <td>Check-Out</td>\n",
              "      <td>2015-07-03</td>\n",
              "    </tr>\n",
              "  </tbody>\n",
              "</table>\n",
              "</div>"
            ],
            "text/plain": [
              "          hotel  is_canceled  ...  reservation_status  reservation_status_date\n",
              "0  Resort Hotel            0  ...           Check-Out               2015-07-01\n",
              "1  Resort Hotel            0  ...           Check-Out               2015-07-01\n",
              "2  Resort Hotel            0  ...           Check-Out               2015-07-02\n",
              "3  Resort Hotel            0  ...           Check-Out               2015-07-02\n",
              "4  Resort Hotel            0  ...           Check-Out               2015-07-03\n",
              "\n",
              "[5 rows x 32 columns]"
            ]
          },
          "metadata": {
            "tags": []
          },
          "execution_count": 2
        }
      ]
    },
    {
      "cell_type": "markdown",
      "metadata": {
        "id": "-12a3CZvGGyi"
      },
      "source": [
        "# Describing the data\n",
        "\n",
        "\n",
        "The goal of this section is simply to explore each of the columns and look at what each of them contain."
      ]
    },
    {
      "cell_type": "code",
      "metadata": {
        "id": "5tze7hGmrzON",
        "outputId": "02bc6373-4564-452c-92e7-814ca31f64ec",
        "colab": {
          "base_uri": "https://localhost:8080/"
        }
      },
      "source": [
        "df.head()"
      ],
      "execution_count": null,
      "outputs": [
        {
          "output_type": "execute_result",
          "data": {
            "text/html": [
              "<div>\n",
              "<style scoped>\n",
              "    .dataframe tbody tr th:only-of-type {\n",
              "        vertical-align: middle;\n",
              "    }\n",
              "\n",
              "    .dataframe tbody tr th {\n",
              "        vertical-align: top;\n",
              "    }\n",
              "\n",
              "    .dataframe thead th {\n",
              "        text-align: right;\n",
              "    }\n",
              "</style>\n",
              "<table border=\"1\" class=\"dataframe\">\n",
              "  <thead>\n",
              "    <tr style=\"text-align: right;\">\n",
              "      <th></th>\n",
              "      <th>hotel</th>\n",
              "      <th>is_canceled</th>\n",
              "      <th>lead_time</th>\n",
              "      <th>arrival_date_year</th>\n",
              "      <th>arrival_date_month</th>\n",
              "      <th>arrival_date_week_number</th>\n",
              "      <th>arrival_date_day_of_month</th>\n",
              "      <th>stays_in_weekend_nights</th>\n",
              "      <th>stays_in_week_nights</th>\n",
              "      <th>adults</th>\n",
              "      <th>children</th>\n",
              "      <th>babies</th>\n",
              "      <th>meal</th>\n",
              "      <th>country</th>\n",
              "      <th>market_segment</th>\n",
              "      <th>distribution_channel</th>\n",
              "      <th>is_repeated_guest</th>\n",
              "      <th>previous_cancellations</th>\n",
              "      <th>previous_bookings_not_canceled</th>\n",
              "      <th>reserved_room_type</th>\n",
              "      <th>assigned_room_type</th>\n",
              "      <th>booking_changes</th>\n",
              "      <th>deposit_type</th>\n",
              "      <th>agent</th>\n",
              "      <th>company</th>\n",
              "      <th>days_in_waiting_list</th>\n",
              "      <th>customer_type</th>\n",
              "      <th>adr</th>\n",
              "      <th>required_car_parking_spaces</th>\n",
              "      <th>total_of_special_requests</th>\n",
              "      <th>reservation_status</th>\n",
              "      <th>reservation_status_date</th>\n",
              "    </tr>\n",
              "  </thead>\n",
              "  <tbody>\n",
              "    <tr>\n",
              "      <th>0</th>\n",
              "      <td>Resort Hotel</td>\n",
              "      <td>0</td>\n",
              "      <td>342</td>\n",
              "      <td>2015</td>\n",
              "      <td>July</td>\n",
              "      <td>27</td>\n",
              "      <td>1</td>\n",
              "      <td>0</td>\n",
              "      <td>0</td>\n",
              "      <td>2</td>\n",
              "      <td>0.0</td>\n",
              "      <td>0</td>\n",
              "      <td>BB</td>\n",
              "      <td>PRT</td>\n",
              "      <td>Direct</td>\n",
              "      <td>Direct</td>\n",
              "      <td>0</td>\n",
              "      <td>0</td>\n",
              "      <td>0</td>\n",
              "      <td>C</td>\n",
              "      <td>C</td>\n",
              "      <td>3</td>\n",
              "      <td>No Deposit</td>\n",
              "      <td>NaN</td>\n",
              "      <td>NaN</td>\n",
              "      <td>0</td>\n",
              "      <td>Transient</td>\n",
              "      <td>0.0</td>\n",
              "      <td>0</td>\n",
              "      <td>0</td>\n",
              "      <td>Check-Out</td>\n",
              "      <td>2015-07-01</td>\n",
              "    </tr>\n",
              "    <tr>\n",
              "      <th>1</th>\n",
              "      <td>Resort Hotel</td>\n",
              "      <td>0</td>\n",
              "      <td>737</td>\n",
              "      <td>2015</td>\n",
              "      <td>July</td>\n",
              "      <td>27</td>\n",
              "      <td>1</td>\n",
              "      <td>0</td>\n",
              "      <td>0</td>\n",
              "      <td>2</td>\n",
              "      <td>0.0</td>\n",
              "      <td>0</td>\n",
              "      <td>BB</td>\n",
              "      <td>PRT</td>\n",
              "      <td>Direct</td>\n",
              "      <td>Direct</td>\n",
              "      <td>0</td>\n",
              "      <td>0</td>\n",
              "      <td>0</td>\n",
              "      <td>C</td>\n",
              "      <td>C</td>\n",
              "      <td>4</td>\n",
              "      <td>No Deposit</td>\n",
              "      <td>NaN</td>\n",
              "      <td>NaN</td>\n",
              "      <td>0</td>\n",
              "      <td>Transient</td>\n",
              "      <td>0.0</td>\n",
              "      <td>0</td>\n",
              "      <td>0</td>\n",
              "      <td>Check-Out</td>\n",
              "      <td>2015-07-01</td>\n",
              "    </tr>\n",
              "    <tr>\n",
              "      <th>2</th>\n",
              "      <td>Resort Hotel</td>\n",
              "      <td>0</td>\n",
              "      <td>7</td>\n",
              "      <td>2015</td>\n",
              "      <td>July</td>\n",
              "      <td>27</td>\n",
              "      <td>1</td>\n",
              "      <td>0</td>\n",
              "      <td>1</td>\n",
              "      <td>1</td>\n",
              "      <td>0.0</td>\n",
              "      <td>0</td>\n",
              "      <td>BB</td>\n",
              "      <td>GBR</td>\n",
              "      <td>Direct</td>\n",
              "      <td>Direct</td>\n",
              "      <td>0</td>\n",
              "      <td>0</td>\n",
              "      <td>0</td>\n",
              "      <td>A</td>\n",
              "      <td>C</td>\n",
              "      <td>0</td>\n",
              "      <td>No Deposit</td>\n",
              "      <td>NaN</td>\n",
              "      <td>NaN</td>\n",
              "      <td>0</td>\n",
              "      <td>Transient</td>\n",
              "      <td>75.0</td>\n",
              "      <td>0</td>\n",
              "      <td>0</td>\n",
              "      <td>Check-Out</td>\n",
              "      <td>2015-07-02</td>\n",
              "    </tr>\n",
              "    <tr>\n",
              "      <th>3</th>\n",
              "      <td>Resort Hotel</td>\n",
              "      <td>0</td>\n",
              "      <td>13</td>\n",
              "      <td>2015</td>\n",
              "      <td>July</td>\n",
              "      <td>27</td>\n",
              "      <td>1</td>\n",
              "      <td>0</td>\n",
              "      <td>1</td>\n",
              "      <td>1</td>\n",
              "      <td>0.0</td>\n",
              "      <td>0</td>\n",
              "      <td>BB</td>\n",
              "      <td>GBR</td>\n",
              "      <td>Corporate</td>\n",
              "      <td>Corporate</td>\n",
              "      <td>0</td>\n",
              "      <td>0</td>\n",
              "      <td>0</td>\n",
              "      <td>A</td>\n",
              "      <td>A</td>\n",
              "      <td>0</td>\n",
              "      <td>No Deposit</td>\n",
              "      <td>304.0</td>\n",
              "      <td>NaN</td>\n",
              "      <td>0</td>\n",
              "      <td>Transient</td>\n",
              "      <td>75.0</td>\n",
              "      <td>0</td>\n",
              "      <td>0</td>\n",
              "      <td>Check-Out</td>\n",
              "      <td>2015-07-02</td>\n",
              "    </tr>\n",
              "    <tr>\n",
              "      <th>4</th>\n",
              "      <td>Resort Hotel</td>\n",
              "      <td>0</td>\n",
              "      <td>14</td>\n",
              "      <td>2015</td>\n",
              "      <td>July</td>\n",
              "      <td>27</td>\n",
              "      <td>1</td>\n",
              "      <td>0</td>\n",
              "      <td>2</td>\n",
              "      <td>2</td>\n",
              "      <td>0.0</td>\n",
              "      <td>0</td>\n",
              "      <td>BB</td>\n",
              "      <td>GBR</td>\n",
              "      <td>Online TA</td>\n",
              "      <td>TA/TO</td>\n",
              "      <td>0</td>\n",
              "      <td>0</td>\n",
              "      <td>0</td>\n",
              "      <td>A</td>\n",
              "      <td>A</td>\n",
              "      <td>0</td>\n",
              "      <td>No Deposit</td>\n",
              "      <td>240.0</td>\n",
              "      <td>NaN</td>\n",
              "      <td>0</td>\n",
              "      <td>Transient</td>\n",
              "      <td>98.0</td>\n",
              "      <td>0</td>\n",
              "      <td>1</td>\n",
              "      <td>Check-Out</td>\n",
              "      <td>2015-07-03</td>\n",
              "    </tr>\n",
              "  </tbody>\n",
              "</table>\n",
              "</div>"
            ],
            "text/plain": [
              "          hotel  is_canceled  ...  reservation_status  reservation_status_date\n",
              "0  Resort Hotel            0  ...           Check-Out               2015-07-01\n",
              "1  Resort Hotel            0  ...           Check-Out               2015-07-01\n",
              "2  Resort Hotel            0  ...           Check-Out               2015-07-02\n",
              "3  Resort Hotel            0  ...           Check-Out               2015-07-02\n",
              "4  Resort Hotel            0  ...           Check-Out               2015-07-03\n",
              "\n",
              "[5 rows x 32 columns]"
            ]
          },
          "metadata": {
            "tags": []
          },
          "execution_count": 3
        }
      ]
    },
    {
      "cell_type": "code",
      "metadata": {
        "id": "6yZg9rZvJVjC",
        "outputId": "98fc8d9b-7e31-4ad5-9dd3-3b7d9e5a1f57",
        "colab": {
          "base_uri": "https://localhost:8080/"
        }
      },
      "source": [
        "df.shape"
      ],
      "execution_count": null,
      "outputs": [
        {
          "output_type": "execute_result",
          "data": {
            "text/plain": [
              "(119390, 32)"
            ]
          },
          "metadata": {
            "tags": []
          },
          "execution_count": 4
        }
      ]
    },
    {
      "cell_type": "code",
      "metadata": {
        "id": "JIVEFpgLsAYl",
        "outputId": "c6f55ff0-2ff2-4945-d5a7-d2e4ea041864",
        "colab": {
          "base_uri": "https://localhost:8080/"
        }
      },
      "source": [
        "df['hotel'].value_counts()"
      ],
      "execution_count": null,
      "outputs": [
        {
          "output_type": "execute_result",
          "data": {
            "text/plain": [
              "City Hotel      79330\n",
              "Resort Hotel    40060\n",
              "Name: hotel, dtype: int64"
            ]
          },
          "metadata": {
            "tags": []
          },
          "execution_count": 5
        }
      ]
    },
    {
      "cell_type": "markdown",
      "metadata": {
        "id": "csKN7yBps4rJ"
      },
      "source": [
        "`is_canceled1`:Value indicating if the booking was canceled (1) or not (0)"
      ]
    },
    {
      "cell_type": "code",
      "metadata": {
        "id": "p429hLJCsDJq",
        "outputId": "526a7439-bb5c-4f3c-f890-bd962c2b61d4",
        "colab": {
          "base_uri": "https://localhost:8080/"
        }
      },
      "source": [
        "df['is_canceled'].value_counts()"
      ],
      "execution_count": null,
      "outputs": [
        {
          "output_type": "execute_result",
          "data": {
            "text/plain": [
              "0    75166\n",
              "1    44224\n",
              "Name: is_canceled, dtype: int64"
            ]
          },
          "metadata": {
            "tags": []
          },
          "execution_count": 6
        }
      ]
    },
    {
      "cell_type": "markdown",
      "metadata": {
        "id": "wp5ohXM0sxXL"
      },
      "source": [
        "`lead_time`: Number of days that elapsed between the entering date of the booking into the PMS and the arrival date"
      ]
    },
    {
      "cell_type": "code",
      "metadata": {
        "id": "LWkLYRHSsOpx",
        "outputId": "74d38fce-512b-4ad2-ee1f-8ace141d7f72",
        "colab": {
          "base_uri": "https://localhost:8080/"
        }
      },
      "source": [
        "df['lead_time'].value_counts()[:10]"
      ],
      "execution_count": null,
      "outputs": [
        {
          "output_type": "execute_result",
          "data": {
            "text/plain": [
              "0     6345\n",
              "1     3460\n",
              "2     2069\n",
              "3     1816\n",
              "4     1715\n",
              "5     1565\n",
              "6     1445\n",
              "7     1331\n",
              "8     1138\n",
              "12    1079\n",
              "Name: lead_time, dtype: int64"
            ]
          },
          "metadata": {
            "tags": []
          },
          "execution_count": 7
        }
      ]
    },
    {
      "cell_type": "code",
      "metadata": {
        "id": "kJS-p4LcsUaw",
        "outputId": "9ff4251f-25ef-4328-feac-ec1cd8da952d",
        "colab": {
          "base_uri": "https://localhost:8080/"
        }
      },
      "source": [
        "df['lead_time'].nunique()"
      ],
      "execution_count": null,
      "outputs": [
        {
          "output_type": "execute_result",
          "data": {
            "text/plain": [
              "479"
            ]
          },
          "metadata": {
            "tags": []
          },
          "execution_count": 8
        }
      ]
    },
    {
      "cell_type": "code",
      "metadata": {
        "id": "wNUmSuSrtRFE",
        "outputId": "70be9cac-b694-40dd-9f02-f645bafe6b54",
        "colab": {
          "base_uri": "https://localhost:8080/"
        }
      },
      "source": [
        "df['arrival_date_year'].value_counts()"
      ],
      "execution_count": null,
      "outputs": [
        {
          "output_type": "execute_result",
          "data": {
            "text/plain": [
              "2016    56707\n",
              "2017    40687\n",
              "2015    21996\n",
              "Name: arrival_date_year, dtype: int64"
            ]
          },
          "metadata": {
            "tags": []
          },
          "execution_count": 9
        }
      ]
    },
    {
      "cell_type": "code",
      "metadata": {
        "id": "A1G2_3X4tVWr",
        "outputId": "dc68f270-b58c-447b-8908-091fb9a29502",
        "colab": {
          "base_uri": "https://localhost:8080/"
        }
      },
      "source": [
        "df['arrival_date_month'].value_counts()"
      ],
      "execution_count": null,
      "outputs": [
        {
          "output_type": "execute_result",
          "data": {
            "text/plain": [
              "August       13877\n",
              "July         12661\n",
              "May          11791\n",
              "October      11160\n",
              "April        11089\n",
              "June         10939\n",
              "September    10508\n",
              "March         9794\n",
              "February      8068\n",
              "November      6794\n",
              "December      6780\n",
              "January       5929\n",
              "Name: arrival_date_month, dtype: int64"
            ]
          },
          "metadata": {
            "tags": []
          },
          "execution_count": 10
        }
      ]
    },
    {
      "cell_type": "code",
      "metadata": {
        "id": "wnSYoygOtYXu",
        "outputId": "58470cd6-e9a6-41aa-bb13-db30820b8379",
        "colab": {
          "base_uri": "https://localhost:8080/"
        }
      },
      "source": [
        "df['arrival_date_week_number'].value_counts()"
      ],
      "execution_count": null,
      "outputs": [
        {
          "output_type": "execute_result",
          "data": {
            "text/plain": [
              "33    3580\n",
              "30    3087\n",
              "32    3045\n",
              "34    3040\n",
              "18    2926\n",
              "21    2854\n",
              "28    2853\n",
              "17    2805\n",
              "20    2785\n",
              "29    2763\n",
              "42    2756\n",
              "31    2741\n",
              "41    2699\n",
              "15    2689\n",
              "27    2664\n",
              "25    2663\n",
              "38    2661\n",
              "23    2621\n",
              "35    2593\n",
              "39    2581\n",
              "22    2546\n",
              "24    2498\n",
              "13    2416\n",
              "16    2405\n",
              "19    2402\n",
              "40    2397\n",
              "26    2391\n",
              "43    2352\n",
              "44    2272\n",
              "14    2264\n",
              "37    2229\n",
              "8     2216\n",
              "36    2167\n",
              "10    2149\n",
              "9     2117\n",
              "7     2109\n",
              "12    2083\n",
              "11    2070\n",
              "45    1941\n",
              "53    1816\n",
              "49    1782\n",
              "47    1685\n",
              "46    1574\n",
              "6     1508\n",
              "50    1505\n",
              "48    1504\n",
              "4     1487\n",
              "5     1387\n",
              "3     1319\n",
              "2     1218\n",
              "52    1195\n",
              "1     1047\n",
              "51     933\n",
              "Name: arrival_date_week_number, dtype: int64"
            ]
          },
          "metadata": {
            "tags": []
          },
          "execution_count": 11
        }
      ]
    },
    {
      "cell_type": "code",
      "metadata": {
        "id": "PD2LSTmCteXZ",
        "outputId": "3c395257-48bb-4f4a-a423-2ca467822500",
        "colab": {
          "base_uri": "https://localhost:8080/"
        }
      },
      "source": [
        "df['arrival_date_day_of_month'].value_counts()"
      ],
      "execution_count": null,
      "outputs": [
        {
          "output_type": "execute_result",
          "data": {
            "text/plain": [
              "17    4406\n",
              "5     4317\n",
              "15    4196\n",
              "25    4160\n",
              "26    4147\n",
              "9     4096\n",
              "12    4087\n",
              "16    4078\n",
              "2     4055\n",
              "19    4052\n",
              "20    4032\n",
              "18    4002\n",
              "24    3993\n",
              "28    3946\n",
              "8     3921\n",
              "3     3855\n",
              "30    3853\n",
              "6     3833\n",
              "14    3819\n",
              "27    3802\n",
              "21    3767\n",
              "4     3763\n",
              "13    3745\n",
              "7     3665\n",
              "1     3626\n",
              "23    3616\n",
              "11    3599\n",
              "22    3596\n",
              "29    3580\n",
              "10    3575\n",
              "31    2208\n",
              "Name: arrival_date_day_of_month, dtype: int64"
            ]
          },
          "metadata": {
            "tags": []
          },
          "execution_count": 12
        }
      ]
    },
    {
      "cell_type": "markdown",
      "metadata": {
        "id": "Y5QL29XLyBn8"
      },
      "source": [
        "`stays_in_weekend_nights`:Number of week nights (Monday to Friday) the guest stayed or booked to stay at the hotel"
      ]
    },
    {
      "cell_type": "code",
      "metadata": {
        "id": "5BEF8IMdtic4",
        "outputId": "88317845-5bd9-40ee-b5db-3b18210ff5e4",
        "colab": {
          "base_uri": "https://localhost:8080/"
        }
      },
      "source": [
        "df['stays_in_weekend_nights'].value_counts()"
      ],
      "execution_count": null,
      "outputs": [
        {
          "output_type": "execute_result",
          "data": {
            "text/plain": [
              "0     51998\n",
              "2     33308\n",
              "1     30626\n",
              "4      1855\n",
              "3      1259\n",
              "6       153\n",
              "5        79\n",
              "8        60\n",
              "7        19\n",
              "9        11\n",
              "10        7\n",
              "12        5\n",
              "13        3\n",
              "16        3\n",
              "14        2\n",
              "18        1\n",
              "19        1\n",
              "Name: stays_in_weekend_nights, dtype: int64"
            ]
          },
          "metadata": {
            "tags": []
          },
          "execution_count": 13
        }
      ]
    },
    {
      "cell_type": "markdown",
      "metadata": {
        "id": "eyv2Q2aRyVhE"
      },
      "source": [
        "`stays_in_week_nights`:Number of weekend nights (Saturday or Sunday) the guest stayed or booked to stay at the hotel "
      ]
    },
    {
      "cell_type": "code",
      "metadata": {
        "id": "bAI4YwHMtsdx",
        "outputId": "0b7c015f-399c-4a14-bebf-e4327d83f1e5",
        "colab": {
          "base_uri": "https://localhost:8080/"
        }
      },
      "source": [
        "df['stays_in_week_nights'].value_counts()"
      ],
      "execution_count": null,
      "outputs": [
        {
          "output_type": "execute_result",
          "data": {
            "text/plain": [
              "2     33684\n",
              "1     30310\n",
              "3     22258\n",
              "5     11077\n",
              "4      9563\n",
              "0      7645\n",
              "6      1499\n",
              "10     1036\n",
              "7      1029\n",
              "8       656\n",
              "9       231\n",
              "15       85\n",
              "11       56\n",
              "19       44\n",
              "12       42\n",
              "20       41\n",
              "14       35\n",
              "13       27\n",
              "16       16\n",
              "21       15\n",
              "22        7\n",
              "18        6\n",
              "25        6\n",
              "30        5\n",
              "17        4\n",
              "24        3\n",
              "40        2\n",
              "42        1\n",
              "26        1\n",
              "32        1\n",
              "33        1\n",
              "34        1\n",
              "35        1\n",
              "41        1\n",
              "50        1\n",
              "Name: stays_in_week_nights, dtype: int64"
            ]
          },
          "metadata": {
            "tags": []
          },
          "execution_count": 14
        }
      ]
    },
    {
      "cell_type": "markdown",
      "metadata": {
        "id": "cQTWEdqYyd9d"
      },
      "source": [
        "Number of adults\t"
      ]
    },
    {
      "cell_type": "code",
      "metadata": {
        "id": "Z48y_Nwatuck",
        "outputId": "d51f88f2-ad14-4d8a-bdc5-3692197329f3",
        "colab": {
          "base_uri": "https://localhost:8080/"
        }
      },
      "source": [
        "df['adults'].value_counts()"
      ],
      "execution_count": null,
      "outputs": [
        {
          "output_type": "execute_result",
          "data": {
            "text/plain": [
              "2     89680\n",
              "1     23027\n",
              "3      6202\n",
              "0       403\n",
              "4        62\n",
              "26        5\n",
              "27        2\n",
              "20        2\n",
              "5         2\n",
              "55        1\n",
              "50        1\n",
              "40        1\n",
              "10        1\n",
              "6         1\n",
              "Name: adults, dtype: int64"
            ]
          },
          "metadata": {
            "tags": []
          },
          "execution_count": 15
        }
      ]
    },
    {
      "cell_type": "code",
      "metadata": {
        "id": "NH4hXoCZy0_y",
        "outputId": "95c800f4-c000-492a-eff9-4e2686736944",
        "colab": {
          "base_uri": "https://localhost:8080/"
        }
      },
      "source": [
        "df['adults'].sum()"
      ],
      "execution_count": null,
      "outputs": [
        {
          "output_type": "execute_result",
          "data": {
            "text/plain": [
              "221636"
            ]
          },
          "metadata": {
            "tags": []
          },
          "execution_count": 16
        }
      ]
    },
    {
      "cell_type": "markdown",
      "metadata": {
        "id": "Y7eKmuIwzEr_"
      },
      "source": [
        "Number of babies"
      ]
    },
    {
      "cell_type": "code",
      "metadata": {
        "id": "gDxCtbxGtvgN",
        "outputId": "a818a660-cfb8-4316-ae04-36d7cc398127",
        "colab": {
          "base_uri": "https://localhost:8080/"
        }
      },
      "source": [
        "df['children'].value_counts()"
      ],
      "execution_count": null,
      "outputs": [
        {
          "output_type": "execute_result",
          "data": {
            "text/plain": [
              "0.0     110796\n",
              "1.0       4861\n",
              "2.0       3652\n",
              "3.0         76\n",
              "10.0         1\n",
              "Name: children, dtype: int64"
            ]
          },
          "metadata": {
            "tags": []
          },
          "execution_count": 17
        }
      ]
    },
    {
      "cell_type": "code",
      "metadata": {
        "id": "th7epe1Jy7kH",
        "outputId": "2e633405-da8d-4508-92d5-a7d32f03674d",
        "colab": {
          "base_uri": "https://localhost:8080/"
        }
      },
      "source": [
        "df['children'].sum()"
      ],
      "execution_count": null,
      "outputs": [
        {
          "output_type": "execute_result",
          "data": {
            "text/plain": [
              "12403.0"
            ]
          },
          "metadata": {
            "tags": []
          },
          "execution_count": 18
        }
      ]
    },
    {
      "cell_type": "code",
      "metadata": {
        "id": "7mxhq3zQtwLB",
        "outputId": "2726cd9b-19ae-463d-a836-cac8fea4c8e4",
        "colab": {
          "base_uri": "https://localhost:8080/"
        }
      },
      "source": [
        "df['babies'].value_counts()"
      ],
      "execution_count": null,
      "outputs": [
        {
          "output_type": "execute_result",
          "data": {
            "text/plain": [
              "0     118473\n",
              "1        900\n",
              "2         15\n",
              "10         1\n",
              "9          1\n",
              "Name: babies, dtype: int64"
            ]
          },
          "metadata": {
            "tags": []
          },
          "execution_count": 19
        }
      ]
    },
    {
      "cell_type": "markdown",
      "metadata": {
        "id": "f7TtmJB9zLPY"
      },
      "source": [
        "Type of meal booked. Categories are presented in standard hospitality meal packages:\tBO, BL and ML\n",
        "Undefined/SC – no meal package;\n",
        "- BB – Bed & Breakfast;\n",
        "- HB – Half board (breakfast and one other meal – usually dinner);\n",
        "- FB – Full board (breakfast, lunch and dinner)\n",
        "- Undefined/SC - no meal"
      ]
    },
    {
      "cell_type": "code",
      "metadata": {
        "id": "vaAzbBD8LWg-",
        "outputId": "c0af8f08-37e4-4961-f9a5-a79bf8037161",
        "colab": {
          "base_uri": "https://localhost:8080/"
        }
      },
      "source": [
        "df['meal'].unique()"
      ],
      "execution_count": null,
      "outputs": [
        {
          "output_type": "execute_result",
          "data": {
            "text/plain": [
              "array(['BB', 'FB', 'HB', 'SC', 'Undefined'], dtype=object)"
            ]
          },
          "metadata": {
            "tags": []
          },
          "execution_count": 20
        }
      ]
    },
    {
      "cell_type": "code",
      "metadata": {
        "id": "niHK3_fZJ1NE"
      },
      "source": [
        "mealdict = {'Undefined':'SC', 'BB': 'BB', 'HB': 'HB', 'FB': 'FB', 'SC': 'SC'} \n",
        "df['meal'] = df['meal'].map(mealdict) "
      ],
      "execution_count": null,
      "outputs": []
    },
    {
      "cell_type": "code",
      "metadata": {
        "id": "y9inOFeet3ZV",
        "outputId": "da42392e-be7d-4cf0-abc0-939812e4f91e",
        "colab": {
          "base_uri": "https://localhost:8080/"
        }
      },
      "source": [
        "df['meal'].value_counts()"
      ],
      "execution_count": null,
      "outputs": [
        {
          "output_type": "execute_result",
          "data": {
            "text/plain": [
              "BB    92310\n",
              "HB    14463\n",
              "SC    11819\n",
              "FB      798\n",
              "Name: meal, dtype: int64"
            ]
          },
          "metadata": {
            "tags": []
          },
          "execution_count": 22
        }
      ]
    },
    {
      "cell_type": "code",
      "metadata": {
        "id": "AQc8qCZUt5ku",
        "outputId": "11678786-1ede-4a9d-806c-15b8ccae05bc",
        "colab": {
          "base_uri": "https://localhost:8080/"
        }
      },
      "source": [
        "df['country'].value_counts()[:10]"
      ],
      "execution_count": null,
      "outputs": [
        {
          "output_type": "execute_result",
          "data": {
            "text/plain": [
              "PRT    48590\n",
              "GBR    12129\n",
              "FRA    10415\n",
              "ESP     8568\n",
              "DEU     7287\n",
              "ITA     3766\n",
              "IRL     3375\n",
              "BEL     2342\n",
              "BRA     2224\n",
              "NLD     2104\n",
              "Name: country, dtype: int64"
            ]
          },
          "metadata": {
            "tags": []
          },
          "execution_count": 23
        }
      ]
    },
    {
      "cell_type": "code",
      "metadata": {
        "id": "S4Y9XCXUvjxK",
        "outputId": "9a2c72fb-81d0-4239-c1c1-b26c0e7eeb4e",
        "colab": {
          "base_uri": "https://localhost:8080/"
        }
      },
      "source": [
        "df['country'].nunique()"
      ],
      "execution_count": null,
      "outputs": [
        {
          "output_type": "execute_result",
          "data": {
            "text/plain": [
              "177"
            ]
          },
          "metadata": {
            "tags": []
          },
          "execution_count": 24
        }
      ]
    },
    {
      "cell_type": "markdown",
      "metadata": {
        "id": "85JGJhqAzjAv"
      },
      "source": [
        "Market segment designation. In categories, the term “TA” means “Travel Agents” and “TO” means “Tour Operators”"
      ]
    },
    {
      "cell_type": "code",
      "metadata": {
        "id": "XBHbbd2it6aG",
        "outputId": "6c4634ca-7f6c-4b75-c637-48a0621b50e8",
        "colab": {
          "base_uri": "https://localhost:8080/"
        }
      },
      "source": [
        "df['market_segment'].value_counts()"
      ],
      "execution_count": null,
      "outputs": [
        {
          "output_type": "execute_result",
          "data": {
            "text/plain": [
              "Online TA        56477\n",
              "Offline TA/TO    24219\n",
              "Groups           19811\n",
              "Direct           12606\n",
              "Corporate         5295\n",
              "Complementary      743\n",
              "Aviation           237\n",
              "Undefined            2\n",
              "Name: market_segment, dtype: int64"
            ]
          },
          "metadata": {
            "tags": []
          },
          "execution_count": 25
        }
      ]
    },
    {
      "cell_type": "markdown",
      "metadata": {
        "id": "H-aPqDcXztAm"
      },
      "source": [
        "Booking distribution channel. The term “TA” means “Travel Agents” and “TO” means “Tour Operators”"
      ]
    },
    {
      "cell_type": "code",
      "metadata": {
        "id": "WX4Tw8vTt69A",
        "outputId": "6fdec2af-259e-42e6-94cc-2d72c35a8970",
        "colab": {
          "base_uri": "https://localhost:8080/"
        }
      },
      "source": [
        "df['distribution_channel'].value_counts()"
      ],
      "execution_count": null,
      "outputs": [
        {
          "output_type": "execute_result",
          "data": {
            "text/plain": [
              "TA/TO        97870\n",
              "Direct       14645\n",
              "Corporate     6677\n",
              "GDS            193\n",
              "Undefined        5\n",
              "Name: distribution_channel, dtype: int64"
            ]
          },
          "metadata": {
            "tags": []
          },
          "execution_count": 26
        }
      ]
    },
    {
      "cell_type": "markdown",
      "metadata": {
        "id": "uh7xl5o4z0RA"
      },
      "source": [
        "Value indicating if the booking name was from a repeated guest (1) or not (0)"
      ]
    },
    {
      "cell_type": "code",
      "metadata": {
        "id": "o-x4mrSat6s2",
        "outputId": "76befb34-b115-4615-9e46-2384311505bc",
        "colab": {
          "base_uri": "https://localhost:8080/"
        }
      },
      "source": [
        "df['is_repeated_guest'].value_counts()"
      ],
      "execution_count": null,
      "outputs": [
        {
          "output_type": "execute_result",
          "data": {
            "text/plain": [
              "0    115580\n",
              "1      3810\n",
              "Name: is_repeated_guest, dtype: int64"
            ]
          },
          "metadata": {
            "tags": []
          },
          "execution_count": 27
        }
      ]
    },
    {
      "cell_type": "markdown",
      "metadata": {
        "id": "3ZuxXqdLz5vO"
      },
      "source": [
        "Number of previous bookings that were cancelled by the customer prior to the current booking"
      ]
    },
    {
      "cell_type": "code",
      "metadata": {
        "id": "1qa6Kkgjt6Hj",
        "outputId": "fe265a0b-5b3d-44c2-d734-af4c3c61f0b5",
        "colab": {
          "base_uri": "https://localhost:8080/"
        }
      },
      "source": [
        "df['previous_cancellations'].value_counts()"
      ],
      "execution_count": null,
      "outputs": [
        {
          "output_type": "execute_result",
          "data": {
            "text/plain": [
              "0     112906\n",
              "1       6051\n",
              "2        116\n",
              "3         65\n",
              "24        48\n",
              "11        35\n",
              "4         31\n",
              "26        26\n",
              "25        25\n",
              "6         22\n",
              "19        19\n",
              "5         19\n",
              "14        14\n",
              "13        12\n",
              "21         1\n",
              "Name: previous_cancellations, dtype: int64"
            ]
          },
          "metadata": {
            "tags": []
          },
          "execution_count": 28
        }
      ]
    },
    {
      "cell_type": "code",
      "metadata": {
        "id": "xsgTzNkKuBtB",
        "outputId": "ea958da9-0548-4fec-ad30-e3bf612a1008",
        "colab": {
          "base_uri": "https://localhost:8080/"
        }
      },
      "source": [
        "df['previous_bookings_not_canceled'].value_counts()[:10]"
      ],
      "execution_count": null,
      "outputs": [
        {
          "output_type": "execute_result",
          "data": {
            "text/plain": [
              "0    115770\n",
              "1      1542\n",
              "2       580\n",
              "3       333\n",
              "4       229\n",
              "5       181\n",
              "6       115\n",
              "7        88\n",
              "8        70\n",
              "9        60\n",
              "Name: previous_bookings_not_canceled, dtype: int64"
            ]
          },
          "metadata": {
            "tags": []
          },
          "execution_count": 29
        }
      ]
    },
    {
      "cell_type": "code",
      "metadata": {
        "id": "p_A0LJyVvyqW",
        "outputId": "78b2bfed-9860-4d1d-848b-ff2b2e950bdf",
        "colab": {
          "base_uri": "https://localhost:8080/"
        }
      },
      "source": [
        "df['previous_bookings_not_canceled'].nunique()"
      ],
      "execution_count": null,
      "outputs": [
        {
          "output_type": "execute_result",
          "data": {
            "text/plain": [
              "73"
            ]
          },
          "metadata": {
            "tags": []
          },
          "execution_count": 30
        }
      ]
    },
    {
      "cell_type": "markdown",
      "metadata": {
        "id": "NG6uGrNF0FLI"
      },
      "source": [
        "Code of room type reserved. Code is presented instead of designation for anonymity reasons"
      ]
    },
    {
      "cell_type": "code",
      "metadata": {
        "id": "TM7AVxyLuBOg",
        "outputId": "06026154-a2c0-42bc-bbd2-d20e65f75d19",
        "colab": {
          "base_uri": "https://localhost:8080/"
        }
      },
      "source": [
        "df['reserved_room_type'].value_counts()"
      ],
      "execution_count": null,
      "outputs": [
        {
          "output_type": "execute_result",
          "data": {
            "text/plain": [
              "A    85994\n",
              "D    19201\n",
              "E     6535\n",
              "F     2897\n",
              "G     2094\n",
              "B     1118\n",
              "C      932\n",
              "H      601\n",
              "P       12\n",
              "L        6\n",
              "Name: reserved_room_type, dtype: int64"
            ]
          },
          "metadata": {
            "tags": []
          },
          "execution_count": 31
        }
      ]
    },
    {
      "cell_type": "markdown",
      "metadata": {
        "id": "I4wqb_XN0MBd"
      },
      "source": [
        "Code for the type of room assigned to the booking. Sometimes the assigned room type differs from the reserved room type due to hotel operation reasons (e.g. overbooking) or by customer request. Code is presented instead of designation for anonymity reasons"
      ]
    },
    {
      "cell_type": "code",
      "metadata": {
        "id": "e3Z5zDVAuEsY",
        "outputId": "b7104867-1c35-487c-92e7-3e1feb4ae02c",
        "colab": {
          "base_uri": "https://localhost:8080/"
        }
      },
      "source": [
        "df['assigned_room_type'].value_counts()"
      ],
      "execution_count": null,
      "outputs": [
        {
          "output_type": "execute_result",
          "data": {
            "text/plain": [
              "A    74053\n",
              "D    25322\n",
              "E     7806\n",
              "F     3751\n",
              "G     2553\n",
              "C     2375\n",
              "B     2163\n",
              "H      712\n",
              "I      363\n",
              "K      279\n",
              "P       12\n",
              "L        1\n",
              "Name: assigned_room_type, dtype: int64"
            ]
          },
          "metadata": {
            "tags": []
          },
          "execution_count": 32
        }
      ]
    },
    {
      "cell_type": "markdown",
      "metadata": {
        "id": "Iaf0SiER0UQA"
      },
      "source": [
        "Number of changes/amendments made to the booking from the moment the booking was entered on the PMS until the moment of check-in or cancellation"
      ]
    },
    {
      "cell_type": "code",
      "metadata": {
        "id": "oNF9vdCLuG6I",
        "outputId": "d5f393cb-b8fd-404f-e5cf-c443671ba968",
        "colab": {
          "base_uri": "https://localhost:8080/"
        }
      },
      "source": [
        "df['booking_changes'].value_counts()"
      ],
      "execution_count": null,
      "outputs": [
        {
          "output_type": "execute_result",
          "data": {
            "text/plain": [
              "0     101314\n",
              "1      12701\n",
              "2       3805\n",
              "3        927\n",
              "4        376\n",
              "5        118\n",
              "6         63\n",
              "7         31\n",
              "8         17\n",
              "9          8\n",
              "10         6\n",
              "13         5\n",
              "14         5\n",
              "15         3\n",
              "11         2\n",
              "12         2\n",
              "16         2\n",
              "17         2\n",
              "20         1\n",
              "18         1\n",
              "21         1\n",
              "Name: booking_changes, dtype: int64"
            ]
          },
          "metadata": {
            "tags": []
          },
          "execution_count": 33
        }
      ]
    },
    {
      "cell_type": "markdown",
      "metadata": {
        "id": "Ni2dHxcl0Y7o"
      },
      "source": [
        "Indication on if the customer made a deposit to guarantee the booking. \n",
        "\n",
        "In case no payments were found the value is “No Deposit”.\n",
        "- No Deposit – no deposit was made\n",
        "\n",
        "If the payment was equal or exceeded the total cost of stay, the value is set as “Non Refund”.\n",
        "- Non Refund – a deposit was made in the value of the total stay cost\n",
        "\n",
        "Otherwise the value is set as “Refundable”\n",
        "- Refundable – a deposit was made with a value under the total cost of stay."
      ]
    },
    {
      "cell_type": "code",
      "metadata": {
        "id": "QdrIZ-oiuHK4",
        "outputId": "75f73651-d7aa-46f0-fb28-aa35f7b8a038",
        "colab": {
          "base_uri": "https://localhost:8080/"
        }
      },
      "source": [
        "df['deposit_type'].value_counts()"
      ],
      "execution_count": null,
      "outputs": [
        {
          "output_type": "execute_result",
          "data": {
            "text/plain": [
              "No Deposit    104641\n",
              "Non Refund     14587\n",
              "Refundable       162\n",
              "Name: deposit_type, dtype: int64"
            ]
          },
          "metadata": {
            "tags": []
          },
          "execution_count": 34
        }
      ]
    },
    {
      "cell_type": "markdown",
      "metadata": {
        "id": "WEVRe89H0zxR"
      },
      "source": [
        "ID of the travel agency that made the booking\n"
      ]
    },
    {
      "cell_type": "code",
      "metadata": {
        "id": "dU_KpxyfuGor",
        "outputId": "fde65a37-c496-463c-f86f-0b811fcee9dd",
        "colab": {
          "base_uri": "https://localhost:8080/"
        }
      },
      "source": [
        "df['agent'].value_counts()[:10]"
      ],
      "execution_count": null,
      "outputs": [
        {
          "output_type": "execute_result",
          "data": {
            "text/plain": [
              "9.0      31961\n",
              "240.0    13922\n",
              "1.0       7191\n",
              "14.0      3640\n",
              "7.0       3539\n",
              "6.0       3290\n",
              "250.0     2870\n",
              "241.0     1721\n",
              "28.0      1666\n",
              "8.0       1514\n",
              "3.0       1336\n",
              "37.0      1230\n",
              "19.0      1061\n",
              "40.0      1039\n",
              "314.0      927\n",
              "21.0       875\n",
              "229.0      786\n",
              "242.0      780\n",
              "83.0       696\n",
              "29.0       683\n",
              "171.0      607\n",
              "12.0       578\n",
              "85.0       554\n",
              "20.0       540\n",
              "96.0       537\n",
              "243.0      514\n",
              "30.0       484\n",
              "134.0      482\n",
              "298.0      472\n",
              "27.0       450\n",
              "15.0       402\n",
              "26.0       401\n",
              "11.0       395\n",
              "22.0       382\n",
              "56.0       375\n",
              "273.0      349\n",
              "177.0      347\n",
              "86.0       338\n",
              "58.0       335\n",
              "5.0        330\n",
              "119.0      304\n",
              "196.0      301\n",
              "34.0       294\n",
              "44.0       292\n",
              "138.0      287\n",
              "315.0      284\n",
              "38.0       274\n",
              "10.0       260\n",
              "Name: agent, dtype: int64"
            ]
          },
          "metadata": {
            "tags": []
          },
          "execution_count": 35
        }
      ]
    },
    {
      "cell_type": "code",
      "metadata": {
        "id": "9XLORLO0wEkg",
        "outputId": "5fa96e8b-b738-430d-95c6-ddc60e57851e",
        "colab": {
          "base_uri": "https://localhost:8080/"
        }
      },
      "source": [
        "df['agent'].nunique()"
      ],
      "execution_count": null,
      "outputs": [
        {
          "output_type": "execute_result",
          "data": {
            "text/plain": [
              "333"
            ]
          },
          "metadata": {
            "tags": []
          },
          "execution_count": 36
        }
      ]
    },
    {
      "cell_type": "markdown",
      "metadata": {
        "id": "zwivIXgZ04N7"
      },
      "source": [
        "\tID of the company/entity that made the booking or responsible for paying the booking. ID is presented instead of designation for anonymity reasons"
      ]
    },
    {
      "cell_type": "code",
      "metadata": {
        "id": "GYFFzHuzuM4v",
        "outputId": "ed86b2f9-65a1-442a-f830-62c5956493e2",
        "colab": {
          "base_uri": "https://localhost:8080/"
        }
      },
      "source": [
        "df['company'].value_counts()[:10]"
      ],
      "execution_count": null,
      "outputs": [
        {
          "output_type": "execute_result",
          "data": {
            "text/plain": [
              "40.0     927\n",
              "223.0    784\n",
              "67.0     267\n",
              "45.0     250\n",
              "153.0    215\n",
              "        ... \n",
              "412.0      1\n",
              "32.0       1\n",
              "11.0       1\n",
              "104.0      1\n",
              "10.0       1\n",
              "Name: company, Length: 278, dtype: int64"
            ]
          },
          "metadata": {
            "tags": []
          },
          "execution_count": 37
        }
      ]
    },
    {
      "cell_type": "code",
      "metadata": {
        "id": "gHBoN88mwHsD",
        "outputId": "23ad7c7c-bd67-45c5-e302-aa2409e29194",
        "colab": {
          "base_uri": "https://localhost:8080/"
        }
      },
      "source": [
        "df['company'].nunique()"
      ],
      "execution_count": null,
      "outputs": [
        {
          "output_type": "execute_result",
          "data": {
            "text/plain": [
              "352"
            ]
          },
          "metadata": {
            "tags": []
          },
          "execution_count": 38
        }
      ]
    },
    {
      "cell_type": "markdown",
      "metadata": {
        "id": "cE9NMNGl08a2"
      },
      "source": [
        "Number of days the booking was in the waiting list before it was confirmed to the customer"
      ]
    },
    {
      "cell_type": "code",
      "metadata": {
        "id": "pQToqY71uUb2",
        "outputId": "61bb6d75-c13a-480f-db4f-7cf8ffa2ade0",
        "colab": {
          "base_uri": "https://localhost:8080/"
        }
      },
      "source": [
        "df['days_in_waiting_list'].value_counts()[:10]"
      ],
      "execution_count": null,
      "outputs": [
        {
          "output_type": "execute_result",
          "data": {
            "text/plain": [
              "0     115692\n",
              "39       227\n",
              "58       164\n",
              "44       141\n",
              "31       127\n",
              "35        96\n",
              "46        94\n",
              "69        89\n",
              "63        83\n",
              "50        80\n",
              "Name: days_in_waiting_list, dtype: int64"
            ]
          },
          "metadata": {
            "tags": []
          },
          "execution_count": 39
        }
      ]
    },
    {
      "cell_type": "code",
      "metadata": {
        "id": "hOVFjtdPwUi-",
        "outputId": "e346221b-6dfd-4cd4-ebe5-5efc5cc4470a",
        "colab": {
          "base_uri": "https://localhost:8080/"
        }
      },
      "source": [
        "df['days_in_waiting_list'].nunique()"
      ],
      "execution_count": null,
      "outputs": [
        {
          "output_type": "execute_result",
          "data": {
            "text/plain": [
              "128"
            ]
          },
          "metadata": {
            "tags": []
          },
          "execution_count": 40
        }
      ]
    },
    {
      "cell_type": "markdown",
      "metadata": {
        "id": "Er5yAnqC1BY-"
      },
      "source": [
        "Type of booking, assuming one of four categories:\n",
        "- Contract - when the booking has an allotment or other type of contract associated to it;\n",
        "- Group – when the booking is associated to a group;\n",
        "- Transient – when the booking is not part of a group or contract, and is not associated to other transient booking;\n",
        "- Transient-party – when the booking is transient, but is associated to at least other transient booking"
      ]
    },
    {
      "cell_type": "code",
      "metadata": {
        "id": "_OQr8ithuUzV",
        "outputId": "4b9313c7-9d9f-4ac7-a0cd-f807352e31f3",
        "colab": {
          "base_uri": "https://localhost:8080/"
        }
      },
      "source": [
        "df['customer_type'].value_counts()"
      ],
      "execution_count": null,
      "outputs": [
        {
          "output_type": "execute_result",
          "data": {
            "text/plain": [
              "Transient          89613\n",
              "Transient-Party    25124\n",
              "Contract            4076\n",
              "Group                577\n",
              "Name: customer_type, dtype: int64"
            ]
          },
          "metadata": {
            "tags": []
          },
          "execution_count": 41
        }
      ]
    },
    {
      "cell_type": "markdown",
      "metadata": {
        "id": "Y3bUBkhh1NFQ"
      },
      "source": [
        "Average Daily Rate as defined"
      ]
    },
    {
      "cell_type": "code",
      "metadata": {
        "id": "tgmTlsWhwXXZ",
        "outputId": "a5c744f0-3fe9-4bd4-c02a-b50b511e3501",
        "colab": {
          "base_uri": "https://localhost:8080/"
        }
      },
      "source": [
        "df['adr'].value_counts()[:10]"
      ],
      "execution_count": null,
      "outputs": [
        {
          "output_type": "execute_result",
          "data": {
            "text/plain": [
              "62.00     3754\n",
              "75.00     2715\n",
              "90.00     2473\n",
              "65.00     2418\n",
              "0.00      1959\n",
              "          ... \n",
              "77.77        6\n",
              "122.60       6\n",
              "113.67       6\n",
              "110.71       6\n",
              "10.00        6\n",
              "Name: adr, Length: 1580, dtype: int64"
            ]
          },
          "metadata": {
            "tags": []
          },
          "execution_count": 42
        }
      ]
    },
    {
      "cell_type": "code",
      "metadata": {
        "id": "UsVMcZDLuUqB",
        "outputId": "d1b4951f-ada3-4008-c4ea-b27f580bfed5",
        "colab": {
          "base_uri": "https://localhost:8080/"
        }
      },
      "source": [
        "df['adr'].nunique()"
      ],
      "execution_count": null,
      "outputs": [
        {
          "output_type": "execute_result",
          "data": {
            "text/plain": [
              "8879"
            ]
          },
          "metadata": {
            "tags": []
          },
          "execution_count": 43
        }
      ]
    },
    {
      "cell_type": "markdown",
      "metadata": {
        "id": "d7MQRKZM1Uye"
      },
      "source": [
        "Number of car parking spaces required by the customer"
      ]
    },
    {
      "cell_type": "code",
      "metadata": {
        "id": "ctOvFK3vuTe7",
        "outputId": "cc29da10-6ffb-480c-f389-a57d9b4fb351",
        "colab": {
          "base_uri": "https://localhost:8080/"
        }
      },
      "source": [
        "df['required_car_parking_spaces'].value_counts()"
      ],
      "execution_count": null,
      "outputs": [
        {
          "output_type": "execute_result",
          "data": {
            "text/plain": [
              "0    111974\n",
              "1      7383\n",
              "2        28\n",
              "3         3\n",
              "8         2\n",
              "Name: required_car_parking_spaces, dtype: int64"
            ]
          },
          "metadata": {
            "tags": []
          },
          "execution_count": 44
        }
      ]
    },
    {
      "cell_type": "markdown",
      "metadata": {
        "id": "iR25spsZ1cCo"
      },
      "source": [
        "Number of special requests made by the customer (e.g. twin bed or high floor)"
      ]
    },
    {
      "cell_type": "code",
      "metadata": {
        "id": "S9vq_VV-uZen",
        "outputId": "94140040-aa48-4833-9836-686d3259e525",
        "colab": {
          "base_uri": "https://localhost:8080/"
        }
      },
      "source": [
        "df['total_of_special_requests'].value_counts()"
      ],
      "execution_count": null,
      "outputs": [
        {
          "output_type": "execute_result",
          "data": {
            "text/plain": [
              "0    70318\n",
              "1    33226\n",
              "2    12969\n",
              "3     2497\n",
              "4      340\n",
              "5       40\n",
              "Name: total_of_special_requests, dtype: int64"
            ]
          },
          "metadata": {
            "tags": []
          },
          "execution_count": 45
        }
      ]
    },
    {
      "cell_type": "markdown",
      "metadata": {
        "id": "ASDvYK5I1gyC"
      },
      "source": [
        "Reservation last status, assuming one of three categories:\n",
        "- Canceled – booking was canceled by the customer;\n",
        "- Check-Out – customer has checked in but already departed;\n",
        "- No-Show – customer did not check-in and did inform the hotel of the reason why"
      ]
    },
    {
      "cell_type": "code",
      "metadata": {
        "id": "v3-EwqFbuZPe",
        "outputId": "20c91b8a-40bd-4384-f9c9-3a21ce1c6627",
        "colab": {
          "base_uri": "https://localhost:8080/"
        }
      },
      "source": [
        "df['reservation_status'].value_counts()"
      ],
      "execution_count": null,
      "outputs": [
        {
          "output_type": "execute_result",
          "data": {
            "text/plain": [
              "Check-Out    75166\n",
              "Canceled     43017\n",
              "No-Show       1207\n",
              "Name: reservation_status, dtype: int64"
            ]
          },
          "metadata": {
            "tags": []
          },
          "execution_count": 46
        }
      ]
    },
    {
      "cell_type": "markdown",
      "metadata": {
        "id": "iPLUmc8E1mst"
      },
      "source": [
        ""
      ]
    },
    {
      "cell_type": "code",
      "metadata": {
        "id": "K5qys_XWwiGM",
        "outputId": "800131e0-9cfe-48a7-a5d9-f4beefebfc87",
        "colab": {
          "base_uri": "https://localhost:8080/"
        }
      },
      "source": [
        "df['reservation_status_date'].value_counts()[:10]"
      ],
      "execution_count": null,
      "outputs": [
        {
          "output_type": "execute_result",
          "data": {
            "text/plain": [
              "2015-10-21    1461\n",
              "2015-07-06     805\n",
              "2016-11-25     790\n",
              "2015-01-01     763\n",
              "2016-01-18     625\n",
              "2015-07-02     469\n",
              "2016-12-07     450\n",
              "2015-12-18     423\n",
              "2016-02-09     412\n",
              "2016-04-04     382\n",
              "Name: reservation_status_date, dtype: int64"
            ]
          },
          "metadata": {
            "tags": []
          },
          "execution_count": 47
        }
      ]
    },
    {
      "cell_type": "code",
      "metadata": {
        "id": "YL_I6ZBWwdwg",
        "outputId": "0041d944-7787-4c38-fb6b-dc1ca11424f3",
        "colab": {
          "base_uri": "https://localhost:8080/"
        }
      },
      "source": [
        "df['reservation_status_date'].nunique()"
      ],
      "execution_count": null,
      "outputs": [
        {
          "output_type": "execute_result",
          "data": {
            "text/plain": [
              "926"
            ]
          },
          "metadata": {
            "tags": []
          },
          "execution_count": 48
        }
      ]
    },
    {
      "cell_type": "markdown",
      "metadata": {
        "id": "QlKgYgDkwmUZ"
      },
      "source": [
        "# Data Cleaning and Feature Engineering\n",
        "\n",
        "\n",
        "The goal of this section is to clean the data."
      ]
    },
    {
      "cell_type": "markdown",
      "metadata": {
        "id": "aqqAL-6OFomS"
      },
      "source": [
        "**Checking Missing Values**\n",
        "\n",
        "4 columns, 'childern', 'country', 'agent', 'company' has missing values.\n",
        "\n",
        "We can delete the column itself or replace the missing values into something.\n",
        "\n",
        "I personally think 'children' and 'country' can be used. Plus, it has only few missing values compare to the number of rows. So we can keep those two columns and delete other two.\n"
      ]
    },
    {
      "cell_type": "code",
      "metadata": {
        "id": "_4tDv6jcEi_P",
        "outputId": "3f568dc6-eeaa-4d5f-b208-8cdc9aa03e7b",
        "colab": {
          "base_uri": "https://localhost:8080/"
        }
      },
      "source": [
        "df.isna().sum()"
      ],
      "execution_count": null,
      "outputs": [
        {
          "output_type": "execute_result",
          "data": {
            "text/plain": [
              "hotel                                  0\n",
              "is_canceled                            0\n",
              "lead_time                              0\n",
              "arrival_date_year                      0\n",
              "arrival_date_month                     0\n",
              "arrival_date_week_number               0\n",
              "arrival_date_day_of_month              0\n",
              "stays_in_weekend_nights                0\n",
              "stays_in_week_nights                   0\n",
              "adults                                 0\n",
              "children                               4\n",
              "babies                                 0\n",
              "meal                                   0\n",
              "country                              488\n",
              "market_segment                         0\n",
              "distribution_channel                   0\n",
              "is_repeated_guest                      0\n",
              "previous_cancellations                 0\n",
              "previous_bookings_not_canceled         0\n",
              "reserved_room_type                     0\n",
              "assigned_room_type                     0\n",
              "booking_changes                        0\n",
              "deposit_type                           0\n",
              "agent                              16340\n",
              "company                           112593\n",
              "days_in_waiting_list                   0\n",
              "customer_type                          0\n",
              "adr                                    0\n",
              "required_car_parking_spaces            0\n",
              "total_of_special_requests              0\n",
              "reservation_status                     0\n",
              "reservation_status_date                0\n",
              "dtype: int64"
            ]
          },
          "metadata": {
            "tags": []
          },
          "execution_count": 49
        }
      ]
    },
    {
      "cell_type": "markdown",
      "metadata": {
        "id": "ONg6snWk6z1E"
      },
      "source": [
        "We are going to drop the columns agent and company since they don't add anything to our analysis and have a lot of missing data. We are also going to drop reservation status since it is the same as is_canceled."
      ]
    },
    {
      "cell_type": "code",
      "metadata": {
        "id": "IF9cnvgpEziX"
      },
      "source": [
        "columns = ['agent', 'company', 'reservation_status']\n",
        "df = df.drop(columns, axis='columns') "
      ],
      "execution_count": null,
      "outputs": []
    },
    {
      "cell_type": "code",
      "metadata": {
        "id": "SoIqcdMIGYvB"
      },
      "source": [
        "df = df.dropna(how='any')  #This drops the missing rows"
      ],
      "execution_count": null,
      "outputs": []
    },
    {
      "cell_type": "markdown",
      "metadata": {
        "id": "bY8UU5sZ7L3M"
      },
      "source": [
        "Now let's take a look at the data types of each columns."
      ]
    },
    {
      "cell_type": "code",
      "metadata": {
        "id": "6uSxE8RdNz_w",
        "outputId": "be99b29d-2bfc-4942-b0cd-6e34cea3cf05",
        "colab": {
          "base_uri": "https://localhost:8080/"
        }
      },
      "source": [
        "df.dtypes"
      ],
      "execution_count": null,
      "outputs": [
        {
          "output_type": "execute_result",
          "data": {
            "text/plain": [
              "hotel                              object\n",
              "is_canceled                         int64\n",
              "lead_time                           int64\n",
              "arrival_date_year                   int64\n",
              "arrival_date_month                 object\n",
              "arrival_date_week_number            int64\n",
              "arrival_date_day_of_month           int64\n",
              "stays_in_weekend_nights             int64\n",
              "stays_in_week_nights                int64\n",
              "adults                              int64\n",
              "children                          float64\n",
              "babies                              int64\n",
              "meal                               object\n",
              "country                            object\n",
              "market_segment                     object\n",
              "distribution_channel               object\n",
              "is_repeated_guest                   int64\n",
              "previous_cancellations              int64\n",
              "previous_bookings_not_canceled      int64\n",
              "reserved_room_type                 object\n",
              "assigned_room_type                 object\n",
              "booking_changes                     int64\n",
              "deposit_type                       object\n",
              "days_in_waiting_list                int64\n",
              "customer_type                      object\n",
              "adr                               float64\n",
              "required_car_parking_spaces         int64\n",
              "total_of_special_requests           int64\n",
              "reservation_status_date            object\n",
              "dtype: object"
            ]
          },
          "metadata": {
            "tags": []
          },
          "execution_count": 52
        }
      ]
    },
    {
      "cell_type": "markdown",
      "metadata": {
        "id": "MOWeBsuF7PxZ"
      },
      "source": [
        "We are going to change children to an int since that can only be a whole number."
      ]
    },
    {
      "cell_type": "code",
      "metadata": {
        "id": "jbgbObqzIYEk"
      },
      "source": [
        "df['children'] = df['children'].astype('int') "
      ],
      "execution_count": null,
      "outputs": []
    },
    {
      "cell_type": "markdown",
      "metadata": {
        "id": "mJd23zNs7Umd"
      },
      "source": [
        "Next, we will make a column which finds the total number of guests for each booking."
      ]
    },
    {
      "cell_type": "code",
      "metadata": {
        "id": "TatAxGe3H55V"
      },
      "source": [
        "df['guests'] = df['adults'] + df['babies']+df['children'] "
      ],
      "execution_count": null,
      "outputs": []
    },
    {
      "cell_type": "markdown",
      "metadata": {
        "id": "ly_QFWQz7hkc"
      },
      "source": [
        "Now, we want to make a column that has the data of each booking in a datatime type."
      ]
    },
    {
      "cell_type": "code",
      "metadata": {
        "id": "XoGfusUCNx7x"
      },
      "source": [
        "month_dict = {'January': 1, 'February': 2, 'March': 3, 'April': 4, 'May': 5, 'June': 6, 'July': 7, 'August': 8,\n",
        "             'September': 9, 'October': 10, 'November': 11, 'December': 12} #Mapping Dictionary"
      ],
      "execution_count": null,
      "outputs": []
    },
    {
      "cell_type": "code",
      "metadata": {
        "id": "lj75jPeVOl0N"
      },
      "source": [
        "df['arrival_date_month_number'] = df['arrival_date_month'].map(month_dict)\n",
        " date_df = df[['arrival_date_year', 'arrival_date_month_number', 'arrival_date_day_of_month']]\n",
        "date_df.columns = ['year', 'month', 'day']"
      ],
      "execution_count": null,
      "outputs": []
    },
    {
      "cell_type": "code",
      "metadata": {
        "id": "8CnYaY53OTRv"
      },
      "source": [
        "df['arrival_date'] = pd.to_datetime(date_df)    #This makes the new column"
      ],
      "execution_count": null,
      "outputs": []
    },
    {
      "cell_type": "markdown",
      "metadata": {
        "id": "0QJTpmBs7ygd"
      },
      "source": [
        "Furthermore, here we will add a column called 'summer'. This column gives a 1 if the month the booking was in was in the months May, June, July or August."
      ]
    },
    {
      "cell_type": "code",
      "metadata": {
        "id": "DDLmiBoURP1q"
      },
      "source": [
        "conditions = [(df['arrival_date_month'] == 'May'),      #This sets the conditions for being a 1\n",
        "              (df['arrival_date_month'] == 'June'),\n",
        "              (df['arrival_date_month'] == 'July'),\n",
        "              (df['arrival_date_month'] == 'August')]\n",
        "choices = [1,1,1,1]\n",
        "df['summer'] = np.select(conditions, choices, 0)      #This selects the columns that match the conditions"
      ],
      "execution_count": null,
      "outputs": []
    },
    {
      "cell_type": "markdown",
      "metadata": {
        "id": "Vo0b7-kW8ip-"
      },
      "source": [
        "Next, we want to make another new column. This column will be called non refund. It is all of the bookings that are classified as non refundable deposits since more than 95% of those bookings cancel."
      ]
    },
    {
      "cell_type": "code",
      "metadata": {
        "id": "Mm3yKfhtw3Me"
      },
      "source": [
        "conditions = [(df['deposit_type'] == 'Non Refund')]     #Sets the conditions\n",
        "choices = [1]\n",
        "df['non_refund'] = np.select(conditions, choices, 0)     # Selcts based on the conditions"
      ],
      "execution_count": null,
      "outputs": []
    },
    {
      "cell_type": "markdown",
      "metadata": {
        "id": "dWpej4P78_8v"
      },
      "source": [
        "Another new column is 'from_protugal'. This column gives a 1 if the booking is from portugal and not out of the country. More people who are from portugal cancel their booking."
      ]
    },
    {
      "cell_type": "code",
      "metadata": {
        "id": "FQ9FIsAWw_D_"
      },
      "source": [
        "conditions = [(df['country'] == 'PRT')]     #Sets the conditions\n",
        "choices = [1]\n",
        "df['from_portugal'] = np.select(conditions, choices, 0)   # Selcts based on the conditions"
      ],
      "execution_count": null,
      "outputs": []
    },
    {
      "cell_type": "markdown",
      "metadata": {
        "id": "qFKJwNKX9Rq4"
      },
      "source": [
        "More feature engineering. This time we are selecting based on whether or not the booking used a travel agency. Bookings are either booked directly, through a company, or through a travel agency. This selects only the ones that are with a travel agency."
      ]
    },
    {
      "cell_type": "code",
      "metadata": {
        "id": "Nnp-WPyexBsv"
      },
      "source": [
        "conditions = [(df['market_segment'] == 'Online TA'),\n",
        "              (df['market_segment'] == 'Offline TA/TO') ]    #Sets the conditions\n",
        "choices = [1,1]\n",
        "df['travel_service'] = np.select(conditions, choices, 0)    # Selcts based on the conditions"
      ],
      "execution_count": null,
      "outputs": []
    },
    {
      "cell_type": "markdown",
      "metadata": {
        "id": "nRbCZQDo9hwZ"
      },
      "source": [
        "The last new column we made is the total bookings. It takes the total previous bookings that weren't canceled for this customer and all of the ones that were and adds them together."
      ]
    },
    {
      "cell_type": "code",
      "metadata": {
        "id": "rFkXVYo_GexX"
      },
      "source": [
        "df['total_bookings'] = df['previous_bookings_not_canceled']+df['previous_cancellations']"
      ],
      "execution_count": null,
      "outputs": []
    },
    {
      "cell_type": "markdown",
      "metadata": {
        "id": "CbcMoUIqUo_8"
      },
      "source": [
        "### Saving Cleaned Data\n",
        "\n",
        "Saving cleaned data into separate csv file, to make sure that we don't have to run everything again for just cleaning the data, when we work individually. \n",
        "So for individual work, we can just load 'hb_cleaned.csv' instead of our original data, 'hotel_bookings.csv.' "
      ]
    },
    {
      "cell_type": "code",
      "metadata": {
        "id": "nXHmPvmq_swR",
        "outputId": "cd49ef7f-2a15-472e-b7d1-9426995b50b8",
        "colab": {
          "base_uri": "https://localhost:8080/"
        }
      },
      "source": [
        "df.to_csv(drive_dir + 'Data/hb_cleaned.csv', index=False)\n",
        "df_cleaned = pd.read_csv(drive_dir + 'Data/hb_cleaned.csv')\n",
        "df_cleaned.head()"
      ],
      "execution_count": null,
      "outputs": [
        {
          "output_type": "execute_result",
          "data": {
            "text/html": [
              "<div>\n",
              "<style scoped>\n",
              "    .dataframe tbody tr th:only-of-type {\n",
              "        vertical-align: middle;\n",
              "    }\n",
              "\n",
              "    .dataframe tbody tr th {\n",
              "        vertical-align: top;\n",
              "    }\n",
              "\n",
              "    .dataframe thead th {\n",
              "        text-align: right;\n",
              "    }\n",
              "</style>\n",
              "<table border=\"1\" class=\"dataframe\">\n",
              "  <thead>\n",
              "    <tr style=\"text-align: right;\">\n",
              "      <th></th>\n",
              "      <th>hotel</th>\n",
              "      <th>is_canceled</th>\n",
              "      <th>lead_time</th>\n",
              "      <th>arrival_date_year</th>\n",
              "      <th>arrival_date_month</th>\n",
              "      <th>arrival_date_week_number</th>\n",
              "      <th>arrival_date_day_of_month</th>\n",
              "      <th>stays_in_weekend_nights</th>\n",
              "      <th>stays_in_week_nights</th>\n",
              "      <th>adults</th>\n",
              "      <th>children</th>\n",
              "      <th>babies</th>\n",
              "      <th>meal</th>\n",
              "      <th>country</th>\n",
              "      <th>market_segment</th>\n",
              "      <th>distribution_channel</th>\n",
              "      <th>is_repeated_guest</th>\n",
              "      <th>previous_cancellations</th>\n",
              "      <th>previous_bookings_not_canceled</th>\n",
              "      <th>reserved_room_type</th>\n",
              "      <th>assigned_room_type</th>\n",
              "      <th>booking_changes</th>\n",
              "      <th>deposit_type</th>\n",
              "      <th>days_in_waiting_list</th>\n",
              "      <th>customer_type</th>\n",
              "      <th>adr</th>\n",
              "      <th>required_car_parking_spaces</th>\n",
              "      <th>total_of_special_requests</th>\n",
              "      <th>reservation_status_date</th>\n",
              "      <th>guests</th>\n",
              "      <th>arrival_date_month_number</th>\n",
              "      <th>arrival_date</th>\n",
              "      <th>summer</th>\n",
              "      <th>non_refund</th>\n",
              "      <th>from_portugal</th>\n",
              "      <th>travel_service</th>\n",
              "      <th>total_bookings</th>\n",
              "    </tr>\n",
              "  </thead>\n",
              "  <tbody>\n",
              "    <tr>\n",
              "      <th>0</th>\n",
              "      <td>Resort Hotel</td>\n",
              "      <td>0</td>\n",
              "      <td>342</td>\n",
              "      <td>2015</td>\n",
              "      <td>July</td>\n",
              "      <td>27</td>\n",
              "      <td>1</td>\n",
              "      <td>0</td>\n",
              "      <td>0</td>\n",
              "      <td>2</td>\n",
              "      <td>0</td>\n",
              "      <td>0</td>\n",
              "      <td>BB</td>\n",
              "      <td>PRT</td>\n",
              "      <td>Direct</td>\n",
              "      <td>Direct</td>\n",
              "      <td>0</td>\n",
              "      <td>0</td>\n",
              "      <td>0</td>\n",
              "      <td>C</td>\n",
              "      <td>C</td>\n",
              "      <td>3</td>\n",
              "      <td>No Deposit</td>\n",
              "      <td>0</td>\n",
              "      <td>Transient</td>\n",
              "      <td>0.0</td>\n",
              "      <td>0</td>\n",
              "      <td>0</td>\n",
              "      <td>2015-07-01</td>\n",
              "      <td>2</td>\n",
              "      <td>7</td>\n",
              "      <td>2015-07-01</td>\n",
              "      <td>1</td>\n",
              "      <td>0</td>\n",
              "      <td>1</td>\n",
              "      <td>0</td>\n",
              "      <td>0</td>\n",
              "    </tr>\n",
              "    <tr>\n",
              "      <th>1</th>\n",
              "      <td>Resort Hotel</td>\n",
              "      <td>0</td>\n",
              "      <td>737</td>\n",
              "      <td>2015</td>\n",
              "      <td>July</td>\n",
              "      <td>27</td>\n",
              "      <td>1</td>\n",
              "      <td>0</td>\n",
              "      <td>0</td>\n",
              "      <td>2</td>\n",
              "      <td>0</td>\n",
              "      <td>0</td>\n",
              "      <td>BB</td>\n",
              "      <td>PRT</td>\n",
              "      <td>Direct</td>\n",
              "      <td>Direct</td>\n",
              "      <td>0</td>\n",
              "      <td>0</td>\n",
              "      <td>0</td>\n",
              "      <td>C</td>\n",
              "      <td>C</td>\n",
              "      <td>4</td>\n",
              "      <td>No Deposit</td>\n",
              "      <td>0</td>\n",
              "      <td>Transient</td>\n",
              "      <td>0.0</td>\n",
              "      <td>0</td>\n",
              "      <td>0</td>\n",
              "      <td>2015-07-01</td>\n",
              "      <td>2</td>\n",
              "      <td>7</td>\n",
              "      <td>2015-07-01</td>\n",
              "      <td>1</td>\n",
              "      <td>0</td>\n",
              "      <td>1</td>\n",
              "      <td>0</td>\n",
              "      <td>0</td>\n",
              "    </tr>\n",
              "    <tr>\n",
              "      <th>2</th>\n",
              "      <td>Resort Hotel</td>\n",
              "      <td>0</td>\n",
              "      <td>7</td>\n",
              "      <td>2015</td>\n",
              "      <td>July</td>\n",
              "      <td>27</td>\n",
              "      <td>1</td>\n",
              "      <td>0</td>\n",
              "      <td>1</td>\n",
              "      <td>1</td>\n",
              "      <td>0</td>\n",
              "      <td>0</td>\n",
              "      <td>BB</td>\n",
              "      <td>GBR</td>\n",
              "      <td>Direct</td>\n",
              "      <td>Direct</td>\n",
              "      <td>0</td>\n",
              "      <td>0</td>\n",
              "      <td>0</td>\n",
              "      <td>A</td>\n",
              "      <td>C</td>\n",
              "      <td>0</td>\n",
              "      <td>No Deposit</td>\n",
              "      <td>0</td>\n",
              "      <td>Transient</td>\n",
              "      <td>75.0</td>\n",
              "      <td>0</td>\n",
              "      <td>0</td>\n",
              "      <td>2015-07-02</td>\n",
              "      <td>1</td>\n",
              "      <td>7</td>\n",
              "      <td>2015-07-01</td>\n",
              "      <td>1</td>\n",
              "      <td>0</td>\n",
              "      <td>0</td>\n",
              "      <td>0</td>\n",
              "      <td>0</td>\n",
              "    </tr>\n",
              "    <tr>\n",
              "      <th>3</th>\n",
              "      <td>Resort Hotel</td>\n",
              "      <td>0</td>\n",
              "      <td>13</td>\n",
              "      <td>2015</td>\n",
              "      <td>July</td>\n",
              "      <td>27</td>\n",
              "      <td>1</td>\n",
              "      <td>0</td>\n",
              "      <td>1</td>\n",
              "      <td>1</td>\n",
              "      <td>0</td>\n",
              "      <td>0</td>\n",
              "      <td>BB</td>\n",
              "      <td>GBR</td>\n",
              "      <td>Corporate</td>\n",
              "      <td>Corporate</td>\n",
              "      <td>0</td>\n",
              "      <td>0</td>\n",
              "      <td>0</td>\n",
              "      <td>A</td>\n",
              "      <td>A</td>\n",
              "      <td>0</td>\n",
              "      <td>No Deposit</td>\n",
              "      <td>0</td>\n",
              "      <td>Transient</td>\n",
              "      <td>75.0</td>\n",
              "      <td>0</td>\n",
              "      <td>0</td>\n",
              "      <td>2015-07-02</td>\n",
              "      <td>1</td>\n",
              "      <td>7</td>\n",
              "      <td>2015-07-01</td>\n",
              "      <td>1</td>\n",
              "      <td>0</td>\n",
              "      <td>0</td>\n",
              "      <td>0</td>\n",
              "      <td>0</td>\n",
              "    </tr>\n",
              "    <tr>\n",
              "      <th>4</th>\n",
              "      <td>Resort Hotel</td>\n",
              "      <td>0</td>\n",
              "      <td>14</td>\n",
              "      <td>2015</td>\n",
              "      <td>July</td>\n",
              "      <td>27</td>\n",
              "      <td>1</td>\n",
              "      <td>0</td>\n",
              "      <td>2</td>\n",
              "      <td>2</td>\n",
              "      <td>0</td>\n",
              "      <td>0</td>\n",
              "      <td>BB</td>\n",
              "      <td>GBR</td>\n",
              "      <td>Online TA</td>\n",
              "      <td>TA/TO</td>\n",
              "      <td>0</td>\n",
              "      <td>0</td>\n",
              "      <td>0</td>\n",
              "      <td>A</td>\n",
              "      <td>A</td>\n",
              "      <td>0</td>\n",
              "      <td>No Deposit</td>\n",
              "      <td>0</td>\n",
              "      <td>Transient</td>\n",
              "      <td>98.0</td>\n",
              "      <td>0</td>\n",
              "      <td>1</td>\n",
              "      <td>2015-07-03</td>\n",
              "      <td>2</td>\n",
              "      <td>7</td>\n",
              "      <td>2015-07-01</td>\n",
              "      <td>1</td>\n",
              "      <td>0</td>\n",
              "      <td>0</td>\n",
              "      <td>1</td>\n",
              "      <td>0</td>\n",
              "    </tr>\n",
              "  </tbody>\n",
              "</table>\n",
              "</div>"
            ],
            "text/plain": [
              "          hotel  is_canceled  ...  travel_service  total_bookings\n",
              "0  Resort Hotel            0  ...               0               0\n",
              "1  Resort Hotel            0  ...               0               0\n",
              "2  Resort Hotel            0  ...               0               0\n",
              "3  Resort Hotel            0  ...               0               0\n",
              "4  Resort Hotel            0  ...               1               0\n",
              "\n",
              "[5 rows x 37 columns]"
            ]
          },
          "metadata": {
            "tags": []
          },
          "execution_count": 63
        }
      ]
    },
    {
      "cell_type": "markdown",
      "metadata": {
        "id": "NfnmZd3nSeew"
      },
      "source": [
        "# Analysis \n",
        "\n",
        "The goal of this section is to conduct an initial analysis."
      ]
    },
    {
      "cell_type": "markdown",
      "metadata": {
        "id": "NkBJ0WIJC99U"
      },
      "source": [
        "### Cancellations"
      ]
    },
    {
      "cell_type": "markdown",
      "metadata": {
        "id": "1h8RzsTtDFnS"
      },
      "source": [
        "Let's split the dataframe into canceled and not canceled and look at the mean for each column."
      ]
    },
    {
      "cell_type": "code",
      "metadata": {
        "id": "_drJmkUcC9kJ"
      },
      "source": [
        "cancel_df = df[df['is_canceled'] == 1]\n",
        "not_cancel_df = df[df['is_canceled'] == 0]"
      ],
      "execution_count": null,
      "outputs": []
    },
    {
      "cell_type": "code",
      "metadata": {
        "id": "IquwLCCXDcRj",
        "outputId": "19267ab7-e4da-4fcd-aa65-6e125e535244",
        "colab": {
          "base_uri": "https://localhost:8080/"
        }
      },
      "source": [
        "cancel_df.mean()"
      ],
      "execution_count": null,
      "outputs": [
        {
          "output_type": "stream",
          "text": [
            "/usr/local/lib/python3.6/dist-packages/ipykernel_launcher.py:1: FutureWarning:\n",
            "\n",
            "DataFrame.mean and DataFrame.median with numeric_only=None will include datetime64 and datetime64tz columns in a future version.\n",
            "\n"
          ],
          "name": "stderr"
        },
        {
          "output_type": "execute_result",
          "data": {
            "text/plain": [
              "is_canceled                          1.000000\n",
              "lead_time                          144.925305\n",
              "arrival_date_year                 2016.172763\n",
              "arrival_date_week_number            27.298553\n",
              "arrival_date_day_of_month           15.730890\n",
              "stays_in_weekend_nights              0.925486\n",
              "stays_in_week_nights                 2.561751\n",
              "adults                               1.902340\n",
              "children                             0.106675\n",
              "babies                               0.003828\n",
              "is_repeated_guest                    0.012502\n",
              "previous_cancellations               0.208117\n",
              "previous_bookings_not_canceled       0.024438\n",
              "booking_changes                      0.098317\n",
              "days_in_waiting_list                 3.569814\n",
              "adr                                105.037911\n",
              "required_car_parking_spaces          0.000000\n",
              "total_of_special_requests            0.328653\n",
              "guests                               2.012842\n",
              "arrival_date_month_number            6.594274\n",
              "summer                               0.434421\n",
              "non_refund                           0.327951\n",
              "from_portugal                        0.623174\n",
              "travel_service                       0.657169\n",
              "total_bookings                       0.232555\n",
              "dtype: float64"
            ]
          },
          "metadata": {
            "tags": []
          },
          "execution_count": 65
        }
      ]
    },
    {
      "cell_type": "code",
      "metadata": {
        "id": "-CkDN50uDnBC",
        "outputId": "4ff16f05-5379-45e2-aa99-f716cffe940c",
        "colab": {
          "base_uri": "https://localhost:8080/"
        }
      },
      "source": [
        "not_cancel_df.mean()"
      ],
      "execution_count": null,
      "outputs": [
        {
          "output_type": "stream",
          "text": [
            "/usr/local/lib/python3.6/dist-packages/ipykernel_launcher.py:1: FutureWarning:\n",
            "\n",
            "DataFrame.mean and DataFrame.median with numeric_only=None will include datetime64 and datetime64tz columns in a future version.\n",
            "\n"
          ],
          "name": "stderr"
        },
        {
          "output_type": "execute_result",
          "data": {
            "text/plain": [
              "is_canceled                          0.000000\n",
              "lead_time                           80.320209\n",
              "arrival_date_year                 2016.148732\n",
              "arrival_date_week_number            27.088581\n",
              "arrival_date_day_of_month           15.842224\n",
              "stays_in_weekend_nights              0.930912\n",
              "stays_in_week_nights                 2.466934\n",
              "adults                               1.832430\n",
              "children                             0.102749\n",
              "babies                               0.010382\n",
              "is_repeated_guest                    0.043535\n",
              "previous_cancellations               0.015680\n",
              "previous_bookings_not_canceled       0.194956\n",
              "booking_changes                      0.293759\n",
              "days_in_waiting_list                 1.598823\n",
              "adr                                100.210618\n",
              "required_car_parking_spaces          0.098441\n",
              "total_of_special_requests            0.715245\n",
              "guests                               1.945562\n",
              "arrival_date_month_number            6.528437\n",
              "summer                               0.401432\n",
              "non_refund                           0.001244\n",
              "from_portugal                        0.281905\n",
              "travel_service                       0.689625\n",
              "total_bookings                       0.210636\n",
              "dtype: float64"
            ]
          },
          "metadata": {
            "tags": []
          },
          "execution_count": 66
        }
      ]
    },
    {
      "cell_type": "markdown",
      "metadata": {
        "id": "INCEs-XFsJ-X"
      },
      "source": [
        "### Cancellations by Day"
      ]
    },
    {
      "cell_type": "markdown",
      "metadata": {
        "id": "L-5ktag5DxhY"
      },
      "source": [
        "Below, we will be making a heatmap to show a normalized picture of which days have high cancellation rates and which have low cancellation rates."
      ]
    },
    {
      "cell_type": "code",
      "metadata": {
        "id": "FPUIGx6AOQDK"
      },
      "source": [
        "import seaborn as sns"
      ],
      "execution_count": null,
      "outputs": []
    },
    {
      "cell_type": "markdown",
      "metadata": {
        "id": "TUGzwdKtD4zj"
      },
      "source": [
        "Using pd.pivot_table we are able to group that data by day and month the booking that is cancelled occurs."
      ]
    },
    {
      "cell_type": "code",
      "metadata": {
        "id": "ArGENO-7O1Z8"
      },
      "source": [
        "heatmapdf = pd.pivot_table(cancel_df[['arrival_date_month', 'arrival_date_day_of_month', 'is_canceled']], index=['arrival_date_month', 'arrival_date_day_of_month'], aggfunc='count')"
      ],
      "execution_count": null,
      "outputs": []
    },
    {
      "cell_type": "code",
      "metadata": {
        "id": "BbdFGe0OxJIp"
      },
      "source": [
        "totaldf = pd.pivot_table(df[['arrival_date_month', 'arrival_date_day_of_month', 'is_canceled']], index=['arrival_date_month', 'arrival_date_day_of_month'], aggfunc='count')"
      ],
      "execution_count": null,
      "outputs": []
    },
    {
      "cell_type": "markdown",
      "metadata": {
        "id": "g9kPaXMRExeG"
      },
      "source": [
        "This well help us arrange the dataframe to work for the heatmap. It will arrange each month as a column."
      ]
    },
    {
      "cell_type": "code",
      "metadata": {
        "id": "81jYwyIlu7uI"
      },
      "source": [
        "heatmapdf = heatmapdf.unstack()"
      ],
      "execution_count": null,
      "outputs": []
    },
    {
      "cell_type": "code",
      "metadata": {
        "id": "2Zg-bYHHxJIs"
      },
      "source": [
        "totaldf = totaldf.unstack()"
      ],
      "execution_count": null,
      "outputs": []
    },
    {
      "cell_type": "markdown",
      "metadata": {
        "id": "_vRl8fayE34V"
      },
      "source": [
        "These next two change the axis labels and fills in all the nulls with a 0 to fit the color scheme"
      ]
    },
    {
      "cell_type": "code",
      "metadata": {
        "id": "eZHiM6fhvK83"
      },
      "source": [
        "heatmapdf = heatmapdf.reindex(labels=['January', 'February', 'March', 'April', 'May', 'June', 'July', 'August', 'September', 'October', 'November', 'December'], axis=0)"
      ],
      "execution_count": null,
      "outputs": []
    },
    {
      "cell_type": "code",
      "metadata": {
        "id": "QkT3ivUlxJIt"
      },
      "source": [
        "totaldf = totaldf.reindex(labels=['January', 'February', 'March', 'April', 'May', 'June', 'July', 'August', 'September', 'October', 'November', 'December'], axis=0)"
      ],
      "execution_count": null,
      "outputs": []
    },
    {
      "cell_type": "markdown",
      "metadata": {
        "id": "KC0lSUsqFUbu"
      },
      "source": [
        "Now we can divide the two dataframes to make a normalized dataframe."
      ]
    },
    {
      "cell_type": "code",
      "metadata": {
        "id": "_rQIK2T2xYvW"
      },
      "source": [
        "heatmap_normdf = heatmapdf / totaldf *100"
      ],
      "execution_count": null,
      "outputs": []
    },
    {
      "cell_type": "markdown",
      "metadata": {
        "id": "6BQ-mCOfFY7F"
      },
      "source": [
        "And plot."
      ]
    },
    {
      "cell_type": "code",
      "metadata": {
        "id": "_Y5_abZYvNHB",
        "outputId": "ba0a1f9e-fffe-4d13-d90e-27b57d43dff0",
        "colab": {
          "base_uri": "https://localhost:8080/"
        }
      },
      "source": [
        "plt.figure(figsize=(16,10))\n",
        "ax = sns.heatmap(heatmap_normdf, linewidths=.5, xticklabels=range(1,32), cmap=\"bwr\")\n",
        "plt.ylabel('Month', fontsize=18)\n",
        "plt.xlabel('Day',fontsize=18)\n",
        "plt.xticks(fontsize=12)\n",
        "plt.yticks(fontsize=12)\n",
        "plt.title('Cancellations by Day', fontsize=20)"
      ],
      "execution_count": null,
      "outputs": [
        {
          "output_type": "execute_result",
          "data": {
            "text/plain": [
              "Text(0.5, 1.0, 'Cancellations by Day')"
            ]
          },
          "metadata": {
            "tags": []
          },
          "execution_count": 75
        },
        {
          "output_type": "display_data",
          "data": {
            "image/png": "[encoded data removed]",
            "text/plain": [
              "<Figure size 1152x720 with 2 Axes>"
            ]
          },
          "metadata": {
            "tags": [],
            "needs_background": "light"
          }
        }
      ]
    },
    {
      "cell_type": "markdown",
      "metadata": {
        "id": "r2Gj8-EbsNJm"
      },
      "source": [
        "### Lead Time"
      ]
    },
    {
      "cell_type": "markdown",
      "metadata": {
        "id": "3dRg0f8YFf-y"
      },
      "source": [
        "Lead Time is the time between booking and the actual reservation. Below we look at the summary statistics and a boxplot of each."
      ]
    },
    {
      "cell_type": "code",
      "metadata": {
        "id": "iVqMheQ0sgXJ",
        "outputId": "daa69cdd-f261-4c21-a312-8afc22e42371",
        "colab": {
          "base_uri": "https://localhost:8080/"
        }
      },
      "source": [
        "cancel_df['lead_time'].describe()"
      ],
      "execution_count": null,
      "outputs": [
        {
          "output_type": "execute_result",
          "data": {
            "text/plain": [
              "count    44153.000000\n",
              "mean       144.925305\n",
              "std        118.636141\n",
              "min          0.000000\n",
              "25%         49.000000\n",
              "50%        113.000000\n",
              "75%        215.000000\n",
              "max        629.000000\n",
              "Name: lead_time, dtype: float64"
            ]
          },
          "metadata": {
            "tags": []
          },
          "execution_count": 76
        }
      ]
    },
    {
      "cell_type": "code",
      "metadata": {
        "id": "DwYGBS1CskJA",
        "outputId": "c2c797ba-e148-499c-fe26-7e0edc7b0dba",
        "colab": {
          "base_uri": "https://localhost:8080/"
        }
      },
      "source": [
        "not_cancel_df['lead_time'].describe()"
      ],
      "execution_count": null,
      "outputs": [
        {
          "output_type": "execute_result",
          "data": {
            "text/plain": [
              "count    74745.000000\n",
              "mean        80.320209\n",
              "std         91.188534\n",
              "min          0.000000\n",
              "25%          9.000000\n",
              "50%         46.000000\n",
              "75%        125.000000\n",
              "max        737.000000\n",
              "Name: lead_time, dtype: float64"
            ]
          },
          "metadata": {
            "tags": []
          },
          "execution_count": 77
        }
      ]
    },
    {
      "cell_type": "code",
      "metadata": {
        "id": "pA4f3G2gsYL8",
        "outputId": "731b1572-7432-4be2-9085-bea18fd8c61e",
        "colab": {
          "base_uri": "https://localhost:8080/"
        }
      },
      "source": [
        "plt.figure(figsize=(16,8))\n",
        "sns.boxplot( x=df[\"lead_time\"], y=df[\"is_canceled\"],showfliers=False, orient='h', saturation=.5)\n",
        "plt.xlabel('Lead Time in Days', fontsize=14)\n",
        "plt.ylabel('Canceled', fontsize=14)\n",
        "plt.yticks([0,1], ['No', 'Yes'], fontsize=12)\n",
        "plt.title('Length of Time Between Booking and Arrival', fontsize=20)"
      ],
      "execution_count": null,
      "outputs": [
        {
          "output_type": "execute_result",
          "data": {
            "text/plain": [
              "Text(0.5, 1.0, 'Length of Time Between Booking and Arrival')"
            ]
          },
          "metadata": {
            "tags": []
          },
          "execution_count": 78
        },
        {
          "output_type": "display_data",
          "data": {
            "image/png": "[encoded data removed]",
            "text/plain": [
              "<Figure size 1152x576 with 1 Axes>"
            ]
          },
          "metadata": {
            "tags": [],
            "needs_background": "light"
          }
        }
      ]
    },
    {
      "cell_type": "markdown",
      "metadata": {
        "id": "ZsLiF94Q2lSe"
      },
      "source": [
        "## Correlation between cancelation and (columns)"
      ]
    },
    {
      "cell_type": "markdown",
      "metadata": {
        "id": "FlFYMSHHt3Do"
      },
      "source": [
        "This illustration of a pie plot it get all the data from the column is_canceled and gets the percent of people who canceled and does not canceled. "
      ]
    },
    {
      "cell_type": "code",
      "metadata": {
        "id": "lMfGKD4H3R4b",
        "outputId": "328a5f7f-0105-4d82-c8bf-e6c6fbb7718d",
        "colab": {
          "base_uri": "https://localhost:8080/"
        }
      },
      "source": [
        "cols = ['Red', 'Green']\n",
        "df['is_canceled'].value_counts().plot.pie(autopct='%1.1f%%',shadow=True, colors=cols)"
      ],
      "execution_count": null,
      "outputs": [
        {
          "output_type": "execute_result",
          "data": {
            "text/plain": [
              "<matplotlib.axes._subplots.AxesSubplot at 0x7f513101d198>"
            ]
          },
          "metadata": {
            "tags": []
          },
          "execution_count": 79
        },
        {
          "output_type": "display_data",
          "data": {
            "image/png": "[encoded data removed]",
            "text/plain": [
              "<Figure size 432x288 with 1 Axes>"
            ]
          },
          "metadata": {
            "tags": []
          }
        }
      ]
    },
    {
      "cell_type": "markdown",
      "metadata": {
        "id": "JeOUEkDwutlq"
      },
      "source": [
        "This graphs represent the percents of cancellation from each column and their unique categories. For instance, the column of hotel have two diferents types of hotels which it show the percent for the type of hotel that have more cancellation or less cancellations. "
      ]
    },
    {
      "cell_type": "code",
      "metadata": {
        "id": "f1kaLWyE27AG",
        "outputId": "b5bbade1-8016-4daf-b0e1-564fd14eeca4",
        "colab": {
          "base_uri": "https://localhost:8080/"
        }
      },
      "source": [
        "for i in df.columns:\n",
        "    if len(df[i].unique())<34:\n",
        "        m = (df.groupby(i)['is_canceled'].sum())/df.groupby(i)['is_canceled'].count()\n",
        "        m.plot.bar(color='blue')\n",
        "        plt.show()"
      ],
      "execution_count": null,
      "outputs": [
        {
          "output_type": "display_data",
          "data": {
            "image/png": "[encoded data removed]",
            "text/plain": [
              "<Figure size 432x288 with 1 Axes>"
            ]
          },
          "metadata": {
            "tags": [],
            "needs_background": "light"
          }
        },
        {
          "output_type": "display_data",
          "data": {
            "image/png": "[encoded data removed]",
            "text/plain": [
              "<Figure size 432x288 with 1 Axes>"
            ]
          },
          "metadata": {
            "tags": [],
            "needs_background": "light"
          }
        },
        {
          "output_type": "display_data",
          "data": {
            "image/png": "[encoded data removed]",
            "text/plain": [
              "<Figure size 432x288 with 1 Axes>"
            ]
          },
          "metadata": {
            "tags": [],
            "needs_background": "light"
          }
        },
        {
          "output_type": "display_data",
          "data": {
            "image/png": "[encoded data removed]",
            "text/plain": [
              "<Figure size 432x288 with 1 Axes>"
            ]
          },
          "metadata": {
            "tags": [],
            "needs_background": "light"
          }
        },
        {
          "output_type": "display_data",
          "data": {
            "image/png": "[encoded data removed]",
            "text/plain": [
              "<Figure size 432x288 with 1 Axes>"
            ]
          },
          "metadata": {
            "tags": [],
            "needs_background": "light"
          }
        },
        {
          "output_type": "display_data",
          "data": {
            "image/png": "[encoded data removed]",
            "text/plain": [
              "<Figure size 432x288 with 1 Axes>"
            ]
          },
          "metadata": {
            "tags": [],
            "needs_background": "light"
          }
        },
        {
          "output_type": "display_data",
          "data": {
            "image/png": "[encoded data removed]",
            "text/plain": [
              "<Figure size 432x288 with 1 Axes>"
            ]
          },
          "metadata": {
            "tags": [],
            "needs_background": "light"
          }
        },
        {
          "output_type": "display_data",
          "data": {
            "image/png": "[encoded data removed]",
            "text/plain": [
              "<Figure size 432x288 with 1 Axes>"
            ]
          },
          "metadata": {
            "tags": [],
            "needs_background": "light"
          }
        },
        {
          "output_type": "display_data",
          "data": {
            "image/png": "[encoded data removed]",
            "text/plain": [
              "<Figure size 432x288 with 1 Axes>"
            ]
          },
          "metadata": {
            "tags": [],
            "needs_background": "light"
          }
        },
        {
          "output_type": "display_data",
          "data": {
            "image/png": "[encoded data removed]",
            "text/plain": [
              "<Figure size 432x288 with 1 Axes>"
            ]
          },
          "metadata": {
            "tags": [],
            "needs_background": "light"
          }
        },
        {
          "output_type": "display_data",
          "data": {
            "image/png": "[encoded data removed]",
            "text/plain": [
              "<Figure size 432x288 with 1 Axes>"
            ]
          },
          "metadata": {
            "tags": [],
            "needs_background": "light"
          }
        },
        {
          "output_type": "display_data",
          "data": {
            "image/png": "[encoded data removed]",
            "text/plain": [
              "<Figure size 432x288 with 1 Axes>"
            ]
          },
          "metadata": {
            "tags": [],
            "needs_background": "light"
          }
        },
        {
          "output_type": "display_data",
          "data": {
            "image/png": "[encoded data removed]",
            "text/plain": [
              "<Figure size 432x288 with 1 Axes>"
            ]
          },
          "metadata": {
            "tags": [],
            "needs_background": "light"
          }
        },
        {
          "output_type": "display_data",
          "data": {
            "image/png": "[encoded data removed]",
            "text/plain": [
              "<Figure size 432x288 with 1 Axes>"
            ]
          },
          "metadata": {
            "tags": [],
            "needs_background": "light"
          }
        },
        {
          "output_type": "display_data",
          "data": {
            "image/png": "[encoded data removed]",
            "text/plain": [
              "<Figure size 432x288 with 1 Axes>"
            ]
          },
          "metadata": {
            "tags": [],
            "needs_background": "light"
          }
        },
        {
          "output_type": "display_data",
          "data": {
            "image/png": "[encoded data removed]",
            "text/plain": [
              "<Figure size 432x288 with 1 Axes>"
            ]
          },
          "metadata": {
            "tags": [],
            "needs_background": "light"
          }
        },
        {
          "output_type": "display_data",
          "data": {
            "image/png": "[encoded data removed]",
            "text/plain": [
              "<Figure size 432x288 with 1 Axes>"
            ]
          },
          "metadata": {
            "tags": [],
            "needs_background": "light"
          }
        },
        {
          "output_type": "display_data",
          "data": {
            "image/png": "[encoded data removed]",
            "text/plain": [
              "<Figure size 432x288 with 1 Axes>"
            ]
          },
          "metadata": {
            "tags": [],
            "needs_background": "light"
          }
        },
        {
          "output_type": "display_data",
          "data": {
            "image/png": "[encoded data removed]",
            "text/plain": [
              "<Figure size 432x288 with 1 Axes>"
            ]
          },
          "metadata": {
            "tags": [],
            "needs_background": "light"
          }
        },
        {
          "output_type": "display_data",
          "data": {
            "image/png": "[encoded data removed]",
            "text/plain": [
              "<Figure size 432x288 with 1 Axes>"
            ]
          },
          "metadata": {
            "tags": [],
            "needs_background": "light"
          }
        },
        {
          "output_type": "display_data",
          "data": {
            "image/png": "[encoded data removed]",
            "text/plain": [
              "<Figure size 432x288 with 1 Axes>"
            ]
          },
          "metadata": {
            "tags": [],
            "needs_background": "light"
          }
        },
        {
          "output_type": "display_data",
          "data": {
            "image/png": "[encoded data removed]",
            "text/plain": [
              "<Figure size 432x288 with 1 Axes>"
            ]
          },
          "metadata": {
            "tags": [],
            "needs_background": "light"
          }
        },
        {
          "output_type": "display_data",
          "data": {
            "image/png": "[encoded data removed]",
            "text/plain": [
              "<Figure size 432x288 with 1 Axes>"
            ]
          },
          "metadata": {
            "tags": [],
            "needs_background": "light"
          }
        },
        {
          "output_type": "display_data",
          "data": {
            "image/png": "[encoded data removed]",
            "text/plain": [
              "<Figure size 432x288 with 1 Axes>"
            ]
          },
          "metadata": {
            "tags": [],
            "needs_background": "light"
          }
        },
        {
          "output_type": "display_data",
          "data": {
            "image/png": "[encoded data removed]",
            "text/plain": [
              "<Figure size 432x288 with 1 Axes>"
            ]
          },
          "metadata": {
            "tags": [],
            "needs_background": "light"
          }
        },
        {
          "output_type": "display_data",
          "data": {
            "image/png": "[encoded data removed]",
            "text/plain": [
              "<Figure size 432x288 with 1 Axes>"
            ]
          },
          "metadata": {
            "tags": [],
            "needs_background": "light"
          }
        },
        {
          "output_type": "display_data",
          "data": {
            "image/png": "[encoded data removed]",
            "text/plain": [
              "<Figure size 432x288 with 1 Axes>"
            ]
          },
          "metadata": {
            "tags": [],
            "needs_background": "light"
          }
        },
        {
          "output_type": "display_data",
          "data": {
            "image/png": "[encoded data removed]",
            "text/plain": [
              "<Figure size 432x288 with 1 Axes>"
            ]
          },
          "metadata": {
            "tags": [],
            "needs_background": "light"
          }
        }
      ]
    },
    {
      "cell_type": "markdown",
      "metadata": {
        "id": "OGIxEhBBIp_t"
      },
      "source": [
        "This part of the code represent a graph with the cancellation vs month and we add the categories of hotels."
      ]
    },
    {
      "cell_type": "code",
      "metadata": {
        "id": "Gu0Ab_WT3Gku",
        "outputId": "12647cfb-e38e-466e-f7df-33fb98219a79",
        "colab": {
          "base_uri": "https://localhost:8080/"
        }
      },
      "source": [
        "plt.figure(figsize = (15,7))\n",
        "sns.set(style=\"darkgrid\")\n",
        "sns.barplot(x = 'arrival_date_month', y = 'is_canceled',hue='hotel', data = df)"
      ],
      "execution_count": null,
      "outputs": [
        {
          "output_type": "execute_result",
          "data": {
            "text/plain": [
              "<matplotlib.axes._subplots.AxesSubplot at 0x7f5130c6d6d8>"
            ]
          },
          "metadata": {
            "tags": []
          },
          "execution_count": 81
        },
        {
          "output_type": "display_data",
          "data": {
            "image/png": "[encoded data removed]",
            "text/plain": [
              "<Figure size 1080x504 with 1 Axes>"
            ]
          },
          "metadata": {
            "tags": [],
            "needs_background": "light"
          }
        }
      ]
    },
    {
      "cell_type": "markdown",
      "metadata": {
        "id": "v_kOpdbRJgUB"
      },
      "source": [
        "This part of the code represent a graph with the cancellation vs year and we add the categories of hotels."
      ]
    },
    {
      "cell_type": "code",
      "metadata": {
        "id": "Vt6-MMkj3H0v",
        "outputId": "f414ad87-cebf-4cf3-d3be-e2b9cdf709a6",
        "colab": {
          "base_uri": "https://localhost:8080/"
        }
      },
      "source": [
        "plt.figure(figsize = (15,7))\n",
        "sns.set(style=\"darkgrid\")\n",
        "sns.barplot(x = 'arrival_date_year', y = 'is_canceled',hue='hotel', data = df)"
      ],
      "execution_count": null,
      "outputs": [
        {
          "output_type": "execute_result",
          "data": {
            "text/plain": [
              "<matplotlib.axes._subplots.AxesSubplot at 0x7f51308a4be0>"
            ]
          },
          "metadata": {
            "tags": []
          },
          "execution_count": 82
        },
        {
          "output_type": "display_data",
          "data": {
            "image/png": "[encoded data removed]",
            "text/plain": [
              "<Figure size 1080x504 with 1 Axes>"
            ]
          },
          "metadata": {
            "tags": []
          }
        }
      ]
    },
    {
      "cell_type": "markdown",
      "metadata": {
        "id": "cwTRi6poJp4i"
      },
      "source": [
        "In here we have a map to illustrated from where all the people mostly cancel."
      ]
    },
    {
      "cell_type": "code",
      "metadata": {
        "id": "beQiTuYl4Jjq",
        "outputId": "34af0d1b-c3a9-4754-d95d-10511e1b6102",
        "colab": {
          "base_uri": "https://localhost:8080/"
        }
      },
      "source": [
        "country_visitors = df[df['is_canceled'] == 1].groupby(['country']).size().reset_index(name = 'count')\n",
        "import plotly.express as px\n",
        "px.choropleth(country_visitors,\n",
        "                    locations = \"country\",\n",
        "                    color= \"count\" ,\n",
        "                    hover_name= \"country\", # column to add to hover information\n",
        "                    color_continuous_scale='blues',#\"Blackbody\",\n",
        "                    title=\"Home country of reserves\")"
      ],
      "execution_count": null,
      "outputs": [
        {
          "output_type": "display_data",
          "data": {
            "text/html": [
              "<html>\n",
              "<head><meta charset=\"utf-8\" /></head>\n",
              "<body>\n",
              "    <div>\n",
              "            <script src=\"https://cdnjs.cloudflare.com/ajax/libs/mathjax/2.7.5/MathJax.js?config=TeX-AMS-MML_SVG\"></script><script type=\"text/javascript\">if (window.MathJax) {MathJax.Hub.Config({SVG: {font: \"STIX-Web\"}});}</script>\n",
              "                <script type=\"text/javascript\">window.PlotlyConfig = {MathJaxConfig: 'local'};</script>\n",
              "        <script src=\"https://cdn.plot.ly/plotly-latest.min.js\"></script>    \n",
              "            <div id=\"0f549c15-3ccd-4ab8-9f38-c743f8a467fe\" class=\"plotly-graph-div\" style=\"height:525px; width:100%;\"></div>\n",
              "            <script type=\"text/javascript\">\n",
              "                \n",
              "                    window.PLOTLYENV=window.PLOTLYENV || {};\n",
              "                    \n",
              "                if (document.getElementById(\"0f549c15-3ccd-4ab8-9f38-c743f8a467fe\")) {\n",
              "                    Plotly.newPlot(\n",
              "                        '0f549c15-3ccd-4ab8-9f38-c743f8a467fe',\n",
              "                        [{\"coloraxis\": \"coloraxis\", \"geo\": \"geo\", \"hoverlabel\": {\"namelength\": 0}, \"hovertemplate\": \"<b>%{hovertext}</b><br><br>country=%{location}<br>count=%{z}\", \"hovertext\": [\"AGO\", \"ALB\", \"AND\", \"ARE\", \"ARG\", \"ARM\", \"AUS\", \"AUT\", \"AZE\", \"BEL\", \"BEN\", \"BGD\", \"BGR\", \"BHR\", \"BIH\", \"BLR\", \"BRA\", \"CHE\", \"CHL\", \"CHN\", \"CIV\", \"CN\", \"COL\", \"CPV\", \"CRI\", \"CYP\", \"CZE\", \"DEU\", \"DNK\", \"DOM\", \"DZA\", \"ECU\", \"EGY\", \"ESP\", \"EST\", \"ETH\", \"FIN\", \"FJI\", \"FRA\", \"FRO\", \"GAB\", \"GBR\", \"GEO\", \"GGY\", \"GHA\", \"GIB\", \"GLP\", \"GNB\", \"GRC\", \"HKG\", \"HND\", \"HRV\", \"HUN\", \"IDN\", \"IMN\", \"IND\", \"IRL\", \"IRN\", \"ISL\", \"ISR\", \"ITA\", \"JEY\", \"JOR\", \"JPN\", \"KAZ\", \"KEN\", \"KHM\", \"KOR\", \"KWT\", \"LBN\", \"LIE\", \"LTU\", \"LUX\", \"LVA\", \"MAC\", \"MAR\", \"MCO\", \"MDV\", \"MEX\", \"MKD\", \"MLT\", \"MNE\", \"MOZ\", \"MUS\", \"MYS\", \"MYT\", \"NGA\", \"NIC\", \"NLD\", \"NOR\", \"NZL\", \"OMN\", \"PAK\", \"PER\", \"PHL\", \"POL\", \"PRI\", \"PRT\", \"QAT\", \"ROU\", \"RUS\", \"SAU\", \"SEN\", \"SGP\", \"SRB\", \"SVK\", \"SVN\", \"SWE\", \"SYC\", \"THA\", \"TJK\", \"TMP\", \"TUN\", \"TUR\", \"TWN\", \"TZA\", \"UKR\", \"UMI\", \"URY\", \"USA\", \"UZB\", \"VEN\", \"VGB\", \"VNM\", \"ZAF\", \"ZMB\", \"ZWE\"], \"locations\": [\"AGO\", \"ALB\", \"AND\", \"ARE\", \"ARG\", \"ARM\", \"AUS\", \"AUT\", \"AZE\", \"BEL\", \"BEN\", \"BGD\", \"BGR\", \"BHR\", \"BIH\", \"BLR\", \"BRA\", \"CHE\", \"CHL\", \"CHN\", \"CIV\", \"CN\", \"COL\", \"CPV\", \"CRI\", \"CYP\", \"CZE\", \"DEU\", \"DNK\", \"DOM\", \"DZA\", \"ECU\", \"EGY\", \"ESP\", \"EST\", \"ETH\", \"FIN\", \"FJI\", \"FRA\", \"FRO\", \"GAB\", \"GBR\", \"GEO\", \"GGY\", \"GHA\", \"GIB\", \"GLP\", \"GNB\", \"GRC\", \"HKG\", \"HND\", \"HRV\", \"HUN\", \"IDN\", \"IMN\", \"IND\", \"IRL\", \"IRN\", \"ISL\", \"ISR\", \"ITA\", \"JEY\", \"JOR\", \"JPN\", \"KAZ\", \"KEN\", \"KHM\", \"KOR\", \"KWT\", \"LBN\", \"LIE\", \"LTU\", \"LUX\", \"LVA\", \"MAC\", \"MAR\", \"MCO\", \"MDV\", \"MEX\", \"MKD\", \"MLT\", \"MNE\", \"MOZ\", \"MUS\", \"MYS\", \"MYT\", \"NGA\", \"NIC\", \"NLD\", \"NOR\", \"NZL\", \"OMN\", \"PAK\", \"PER\", \"PHL\", \"POL\", \"PRI\", \"PRT\", \"QAT\", \"ROU\", \"RUS\", \"SAU\", \"SEN\", \"SGP\", \"SRB\", \"SVK\", \"SVN\", \"SWE\", \"SYC\", \"THA\", \"TJK\", \"TMP\", \"TUN\", \"TUR\", \"TWN\", \"TZA\", \"UKR\", \"UMI\", \"URY\", \"USA\", \"UZB\", \"VEN\", \"VGB\", \"VNM\", \"ZAF\", \"ZMB\", \"ZWE\"], \"name\": \"\", \"type\": \"choropleth\", \"z\": [205, 2, 5, 43, 54, 2, 107, 230, 9, 474, 3, 9, 12, 4, 3, 9, 830, 428, 16, 462, 2, 254, 23, 12, 1, 11, 37, 1218, 109, 8, 21, 8, 11, 2177, 18, 1, 69, 1, 1934, 4, 2, 2453, 15, 3, 2, 11, 2, 1, 35, 26, 1, 25, 77, 24, 2, 35, 832, 23, 4, 169, 1333, 8, 3, 28, 5, 2, 2, 55, 6, 9, 1, 7, 109, 9, 15, 109, 1, 9, 10, 2, 5, 2, 19, 1, 3, 2, 21, 1, 387, 181, 6, 4, 9, 6, 25, 215, 2, 27515, 11, 134, 239, 33, 8, 16, 3, 24, 15, 227, 1, 18, 8, 1, 19, 102, 14, 3, 20, 1, 9, 501, 2, 12, 1, 2, 31, 1, 2]}],\n",
              "                        {\"coloraxis\": {\"colorbar\": {\"title\": {\"text\": \"count\"}}, \"colorscale\": [[0.0, \"rgb(247,251,255)\"], [0.125, \"rgb(222,235,247)\"], [0.25, \"rgb(198,219,239)\"], [0.375, \"rgb(158,202,225)\"], [0.5, \"rgb(107,174,214)\"], [0.625, \"rgb(66,146,198)\"], [0.75, \"rgb(33,113,181)\"], [0.875, \"rgb(8,81,156)\"], [1.0, \"rgb(8,48,107)\"]]}, \"geo\": {\"center\": {}, \"domain\": {\"x\": [0.0, 1.0], \"y\": [0.0, 1.0]}}, \"legend\": {\"tracegroupgap\": 0}, \"template\": {\"data\": {\"bar\": [{\"error_x\": {\"color\": \"#2a3f5f\"}, \"error_y\": {\"color\": \"#2a3f5f\"}, \"marker\": {\"line\": {\"color\": \"#E5ECF6\", \"width\": 0.5}}, \"type\": \"bar\"}], \"barpolar\": [{\"marker\": {\"line\": {\"color\": \"#E5ECF6\", \"width\": 0.5}}, \"type\": \"barpolar\"}], \"carpet\": [{\"aaxis\": {\"endlinecolor\": \"#2a3f5f\", \"gridcolor\": \"white\", \"linecolor\": \"white\", \"minorgridcolor\": \"white\", \"startlinecolor\": \"#2a3f5f\"}, \"baxis\": {\"endlinecolor\": \"#2a3f5f\", \"gridcolor\": \"white\", \"linecolor\": \"white\", \"minorgridcolor\": \"white\", \"startlinecolor\": \"#2a3f5f\"}, \"type\": \"carpet\"}], \"choropleth\": [{\"colorbar\": {\"outlinewidth\": 0, \"ticks\": \"\"}, \"type\": \"choropleth\"}], \"contour\": [{\"colorbar\": {\"outlinewidth\": 0, \"ticks\": \"\"}, \"colorscale\": [[0.0, \"#0d0887\"], [0.1111111111111111, \"#46039f\"], [0.2222222222222222, \"#7201a8\"], [0.3333333333333333, \"#9c179e\"], [0.4444444444444444, \"#bd3786\"], [0.5555555555555556, \"#d8576b\"], [0.6666666666666666, \"#ed7953\"], [0.7777777777777778, \"#fb9f3a\"], [0.8888888888888888, \"#fdca26\"], [1.0, \"#f0f921\"]], \"type\": \"contour\"}], \"contourcarpet\": [{\"colorbar\": {\"outlinewidth\": 0, \"ticks\": \"\"}, \"type\": \"contourcarpet\"}], \"heatmap\": [{\"colorbar\": {\"outlinewidth\": 0, \"ticks\": \"\"}, \"colorscale\": [[0.0, \"#0d0887\"], [0.1111111111111111, \"#46039f\"], [0.2222222222222222, \"#7201a8\"], [0.3333333333333333, \"#9c179e\"], [0.4444444444444444, \"#bd3786\"], [0.5555555555555556, \"#d8576b\"], [0.6666666666666666, \"#ed7953\"], [0.7777777777777778, \"#fb9f3a\"], [0.8888888888888888, \"#fdca26\"], [1.0, \"#f0f921\"]], \"type\": \"heatmap\"}], \"heatmapgl\": [{\"colorbar\": {\"outlinewidth\": 0, \"ticks\": \"\"}, \"colorscale\": [[0.0, \"#0d0887\"], [0.1111111111111111, \"#46039f\"], [0.2222222222222222, \"#7201a8\"], [0.3333333333333333, \"#9c179e\"], [0.4444444444444444, \"#bd3786\"], [0.5555555555555556, \"#d8576b\"], [0.6666666666666666, \"#ed7953\"], [0.7777777777777778, \"#fb9f3a\"], [0.8888888888888888, \"#fdca26\"], [1.0, \"#f0f921\"]], \"type\": \"heatmapgl\"}], \"histogram\": [{\"marker\": {\"colorbar\": {\"outlinewidth\": 0, \"ticks\": \"\"}}, \"type\": \"histogram\"}], \"histogram2d\": [{\"colorbar\": {\"outlinewidth\": 0, \"ticks\": \"\"}, \"colorscale\": [[0.0, \"#0d0887\"], [0.1111111111111111, \"#46039f\"], [0.2222222222222222, \"#7201a8\"], [0.3333333333333333, \"#9c179e\"], [0.4444444444444444, \"#bd3786\"], [0.5555555555555556, \"#d8576b\"], [0.6666666666666666, \"#ed7953\"], [0.7777777777777778, \"#fb9f3a\"], [0.8888888888888888, \"#fdca26\"], [1.0, \"#f0f921\"]], \"type\": \"histogram2d\"}], \"histogram2dcontour\": [{\"colorbar\": {\"outlinewidth\": 0, \"ticks\": \"\"}, \"colorscale\": [[0.0, \"#0d0887\"], [0.1111111111111111, \"#46039f\"], [0.2222222222222222, \"#7201a8\"], [0.3333333333333333, \"#9c179e\"], [0.4444444444444444, \"#bd3786\"], [0.5555555555555556, \"#d8576b\"], [0.6666666666666666, \"#ed7953\"], [0.7777777777777778, \"#fb9f3a\"], [0.8888888888888888, \"#fdca26\"], [1.0, \"#f0f921\"]], \"type\": \"histogram2dcontour\"}], \"mesh3d\": [{\"colorbar\": {\"outlinewidth\": 0, \"ticks\": \"\"}, \"type\": \"mesh3d\"}], \"parcoords\": [{\"line\": {\"colorbar\": {\"outlinewidth\": 0, \"ticks\": \"\"}}, \"type\": \"parcoords\"}], \"pie\": [{\"automargin\": true, \"type\": \"pie\"}], \"scatter\": [{\"marker\": {\"colorbar\": {\"outlinewidth\": 0, \"ticks\": \"\"}}, \"type\": \"scatter\"}], \"scatter3d\": [{\"line\": {\"colorbar\": {\"outlinewidth\": 0, \"ticks\": \"\"}}, \"marker\": {\"colorbar\": {\"outlinewidth\": 0, \"ticks\": \"\"}}, \"type\": \"scatter3d\"}], \"scattercarpet\": [{\"marker\": {\"colorbar\": {\"outlinewidth\": 0, \"ticks\": \"\"}}, \"type\": \"scattercarpet\"}], \"scattergeo\": [{\"marker\": {\"colorbar\": {\"outlinewidth\": 0, \"ticks\": \"\"}}, \"type\": \"scattergeo\"}], \"scattergl\": [{\"marker\": {\"colorbar\": {\"outlinewidth\": 0, \"ticks\": \"\"}}, \"type\": \"scattergl\"}], \"scattermapbox\": [{\"marker\": {\"colorbar\": {\"outlinewidth\": 0, \"ticks\": \"\"}}, \"type\": \"scattermapbox\"}], \"scatterpolar\": [{\"marker\": {\"colorbar\": {\"outlinewidth\": 0, \"ticks\": \"\"}}, \"type\": \"scatterpolar\"}], \"scatterpolargl\": [{\"marker\": {\"colorbar\": {\"outlinewidth\": 0, \"ticks\": \"\"}}, \"type\": \"scatterpolargl\"}], \"scatterternary\": [{\"marker\": {\"colorbar\": {\"outlinewidth\": 0, \"ticks\": \"\"}}, \"type\": \"scatterternary\"}], \"surface\": [{\"colorbar\": {\"outlinewidth\": 0, \"ticks\": \"\"}, \"colorscale\": [[0.0, \"#0d0887\"], [0.1111111111111111, \"#46039f\"], [0.2222222222222222, \"#7201a8\"], [0.3333333333333333, \"#9c179e\"], [0.4444444444444444, \"#bd3786\"], [0.5555555555555556, \"#d8576b\"], [0.6666666666666666, \"#ed7953\"], [0.7777777777777778, \"#fb9f3a\"], [0.8888888888888888, \"#fdca26\"], [1.0, \"#f0f921\"]], \"type\": \"surface\"}], \"table\": [{\"cells\": {\"fill\": {\"color\": \"#EBF0F8\"}, \"line\": {\"color\": \"white\"}}, \"header\": {\"fill\": {\"color\": \"#C8D4E3\"}, \"line\": {\"color\": \"white\"}}, \"type\": \"table\"}]}, \"layout\": {\"annotationdefaults\": {\"arrowcolor\": \"#2a3f5f\", \"arrowhead\": 0, \"arrowwidth\": 1}, \"coloraxis\": {\"colorbar\": {\"outlinewidth\": 0, \"ticks\": \"\"}}, \"colorscale\": {\"diverging\": [[0, \"#8e0152\"], [0.1, \"#c51b7d\"], [0.2, \"#de77ae\"], [0.3, \"#f1b6da\"], [0.4, \"#fde0ef\"], [0.5, \"#f7f7f7\"], [0.6, \"#e6f5d0\"], [0.7, \"#b8e186\"], [0.8, \"#7fbc41\"], [0.9, \"#4d9221\"], [1, \"#276419\"]], \"sequential\": [[0.0, \"#0d0887\"], [0.1111111111111111, \"#46039f\"], [0.2222222222222222, \"#7201a8\"], [0.3333333333333333, \"#9c179e\"], [0.4444444444444444, \"#bd3786\"], [0.5555555555555556, \"#d8576b\"], [0.6666666666666666, \"#ed7953\"], [0.7777777777777778, \"#fb9f3a\"], [0.8888888888888888, \"#fdca26\"], [1.0, \"#f0f921\"]], \"sequentialminus\": [[0.0, \"#0d0887\"], [0.1111111111111111, \"#46039f\"], [0.2222222222222222, \"#7201a8\"], [0.3333333333333333, \"#9c179e\"], [0.4444444444444444, \"#bd3786\"], [0.5555555555555556, \"#d8576b\"], [0.6666666666666666, \"#ed7953\"], [0.7777777777777778, \"#fb9f3a\"], [0.8888888888888888, \"#fdca26\"], [1.0, \"#f0f921\"]]}, \"colorway\": [\"#636efa\", \"#EF553B\", \"#00cc96\", \"#ab63fa\", \"#FFA15A\", \"#19d3f3\", \"#FF6692\", \"#B6E880\", \"#FF97FF\", \"#FECB52\"], \"font\": {\"color\": \"#2a3f5f\"}, \"geo\": {\"bgcolor\": \"white\", \"lakecolor\": \"white\", \"landcolor\": \"#E5ECF6\", \"showlakes\": true, \"showland\": true, \"subunitcolor\": \"white\"}, \"hoverlabel\": {\"align\": \"left\"}, \"hovermode\": \"closest\", \"mapbox\": {\"style\": \"light\"}, \"paper_bgcolor\": \"white\", \"plot_bgcolor\": \"#E5ECF6\", \"polar\": {\"angularaxis\": {\"gridcolor\": \"white\", \"linecolor\": \"white\", \"ticks\": \"\"}, \"bgcolor\": \"#E5ECF6\", \"radialaxis\": {\"gridcolor\": \"white\", \"linecolor\": \"white\", \"ticks\": \"\"}}, \"scene\": {\"xaxis\": {\"backgroundcolor\": \"#E5ECF6\", \"gridcolor\": \"white\", \"gridwidth\": 2, \"linecolor\": \"white\", \"showbackground\": true, \"ticks\": \"\", \"zerolinecolor\": \"white\"}, \"yaxis\": {\"backgroundcolor\": \"#E5ECF6\", \"gridcolor\": \"white\", \"gridwidth\": 2, \"linecolor\": \"white\", \"showbackground\": true, \"ticks\": \"\", \"zerolinecolor\": \"white\"}, \"zaxis\": {\"backgroundcolor\": \"#E5ECF6\", \"gridcolor\": \"white\", \"gridwidth\": 2, \"linecolor\": \"white\", \"showbackground\": true, \"ticks\": \"\", \"zerolinecolor\": \"white\"}}, \"shapedefaults\": {\"line\": {\"color\": \"#2a3f5f\"}}, \"ternary\": {\"aaxis\": {\"gridcolor\": \"white\", \"linecolor\": \"white\", \"ticks\": \"\"}, \"baxis\": {\"gridcolor\": \"white\", \"linecolor\": \"white\", \"ticks\": \"\"}, \"bgcolor\": \"#E5ECF6\", \"caxis\": {\"gridcolor\": \"white\", \"linecolor\": \"white\", \"ticks\": \"\"}}, \"title\": {\"x\": 0.05}, \"xaxis\": {\"automargin\": true, \"gridcolor\": \"white\", \"linecolor\": \"white\", \"ticks\": \"\", \"title\": {\"standoff\": 15}, \"zerolinecolor\": \"white\", \"zerolinewidth\": 2}, \"yaxis\": {\"automargin\": true, \"gridcolor\": \"white\", \"linecolor\": \"white\", \"ticks\": \"\", \"title\": {\"standoff\": 15}, \"zerolinecolor\": \"white\", \"zerolinewidth\": 2}}}, \"title\": {\"text\": \"Home country of reserves\"}},\n",
              "                        {\"responsive\": true}\n",
              "                    ).then(function(){\n",
              "                            \n",
              "var gd = document.getElementById('0f549c15-3ccd-4ab8-9f38-c743f8a467fe');\n",
              "var x = new MutationObserver(function (mutations, observer) {{\n",
              "        var display = window.getComputedStyle(gd).display;\n",
              "        if (!display || display === 'none') {{\n",
              "            console.log([gd, 'removed!']);\n",
              "            Plotly.purge(gd);\n",
              "            observer.disconnect();\n",
              "        }}\n",
              "}});\n",
              "\n",
              "// Listen for the removal of the full notebook cells\n",
              "var notebookContainer = gd.closest('#notebook-container');\n",
              "if (notebookContainer) {{\n",
              "    x.observe(notebookContainer, {childList: true});\n",
              "}}\n",
              "\n",
              "// Listen for the clearing of the current output cell\n",
              "var outputEl = gd.closest('.output');\n",
              "if (outputEl) {{\n",
              "    x.observe(outputEl, {childList: true});\n",
              "}}\n",
              "\n",
              "                        })\n",
              "                };\n",
              "                \n",
              "            </script>\n",
              "        </div>\n",
              "</body>\n",
              "</html>"
            ]
          },
          "metadata": {
            "tags": []
          }
        }
      ]
    },
    {
      "cell_type": "markdown",
      "metadata": {
        "id": "zt-wqICgpwyr"
      },
      "source": [
        "The below graph gives information about the location which bookings made in. According to that, there is an apparent difference in booking location between Portugal and the others. Approx. 40% of all bookings made in the same location: Portugal."
      ]
    },
    {
      "cell_type": "code",
      "metadata": {
        "id": "dO4xy5lMpwRL",
        "outputId": "6ddbab26-84cc-49df-c4ea-441523bc9948",
        "colab": {
          "base_uri": "https://localhost:8080/"
        }
      },
      "source": [
        "plt.figure(figsize=(10,10))\n",
        "sns.countplot(x='country', data=df, \n",
        "              order=pd.value_counts(df['country']).iloc[:10].index, palette=\"brg\")\n",
        "plt.title('Top 10 Country of Origin', weight='bold')\n",
        "plt.xlabel('Country', fontsize=12)\n",
        "plt.ylabel('Count', fontsize=12)"
      ],
      "execution_count": null,
      "outputs": [
        {
          "output_type": "execute_result",
          "data": {
            "text/plain": [
              "Text(0, 0.5, 'Count')"
            ]
          },
          "metadata": {
            "tags": []
          },
          "execution_count": 84
        },
        {
          "output_type": "display_data",
          "data": {
            "image/png": "[encoded data removed]",
            "text/plain": [
              "<Figure size 720x720 with 1 Axes>"
            ]
          },
          "metadata": {
            "tags": []
          }
        }
      ]
    },
    {
      "cell_type": "markdown",
      "metadata": {
        "id": "J5e800SqXTKp"
      },
      "source": [
        "# Models\n",
        "\n",
        "The goal of this section is to try a few different models and ensemble them to find the best results."
      ]
    },
    {
      "cell_type": "markdown",
      "metadata": {
        "id": "YV1lR8yNXEwg"
      },
      "source": [
        "## Nearest Neighboors"
      ]
    },
    {
      "cell_type": "markdown",
      "metadata": {
        "id": "7mb-MVbqF48Z"
      },
      "source": [
        "We will use this dataframe below for all of our models."
      ]
    },
    {
      "cell_type": "code",
      "metadata": {
        "id": "BFP1yHYeXWEH"
      },
      "source": [
        "columns = ['is_canceled','lead_time', 'is_repeated_guest', 'previous_cancellations',\n",
        "       'previous_bookings_not_canceled','booking_changes','days_in_waiting_list', 'adr',\n",
        "       'required_car_parking_spaces', 'total_of_special_requests', 'non_refund',\n",
        "       'from_portugal', 'travel_service', 'guests', 'arrival_date_month', 'arrival_date_day_of_month', 'total_bookings']\n",
        "df_new = df[columns]"
      ],
      "execution_count": null,
      "outputs": []
    },
    {
      "cell_type": "code",
      "metadata": {
        "id": "X03F_B3A6jp4",
        "outputId": "f4a13a12-5dae-451c-987f-e5027276f7a7",
        "colab": {
          "base_uri": "https://localhost:8080/"
        }
      },
      "source": [
        "df.dtypes"
      ],
      "execution_count": null,
      "outputs": [
        {
          "output_type": "execute_result",
          "data": {
            "text/plain": [
              "hotel                                     object\n",
              "is_canceled                                int64\n",
              "lead_time                                  int64\n",
              "arrival_date_year                          int64\n",
              "arrival_date_month                        object\n",
              "arrival_date_week_number                   int64\n",
              "arrival_date_day_of_month                  int64\n",
              "stays_in_weekend_nights                    int64\n",
              "stays_in_week_nights                       int64\n",
              "adults                                     int64\n",
              "children                                   int64\n",
              "babies                                     int64\n",
              "meal                                      object\n",
              "country                                   object\n",
              "market_segment                            object\n",
              "distribution_channel                      object\n",
              "is_repeated_guest                          int64\n",
              "previous_cancellations                     int64\n",
              "previous_bookings_not_canceled             int64\n",
              "reserved_room_type                        object\n",
              "assigned_room_type                        object\n",
              "booking_changes                            int64\n",
              "deposit_type                              object\n",
              "days_in_waiting_list                       int64\n",
              "customer_type                             object\n",
              "adr                                      float64\n",
              "required_car_parking_spaces                int64\n",
              "total_of_special_requests                  int64\n",
              "reservation_status_date                   object\n",
              "guests                                     int64\n",
              "arrival_date_month_number                  int64\n",
              "arrival_date                      datetime64[ns]\n",
              "summer                                     int64\n",
              "non_refund                                 int64\n",
              "from_portugal                              int64\n",
              "travel_service                             int64\n",
              "total_bookings                             int64\n",
              "dtype: object"
            ]
          },
          "metadata": {
            "tags": []
          },
          "execution_count": 87
        }
      ]
    },
    {
      "cell_type": "markdown",
      "metadata": {
        "id": "dY6RMz_cF8wA"
      },
      "source": [
        "Now we must encode it so that we can use all of the columns. Most models don't work on nonnumerical data."
      ]
    },
    {
      "cell_type": "code",
      "metadata": {
        "id": "HPGdb-sX6Gmp"
      },
      "source": [
        "for c in df_new.columns:\n",
        "  if c != 'is_canceled':  \n",
        "    if df_new[c].dtype == object:  #If it is a string, then encode it. \n",
        "        try:  \n",
        "            le = LabelEncoder()           \n",
        "            le.fit(df_new[c].unique())    \n",
        "            df_new[c] = le.transform(df_new[c])  \n",
        "        except Exception as e:         \n",
        "            print(c)         \n",
        "            print(e)"
      ],
      "execution_count": null,
      "outputs": []
    },
    {
      "cell_type": "markdown",
      "metadata": {
        "id": "XRV-BdNyGDpb"
      },
      "source": [
        "Now we can split the data to training and testing data. This will also be used for all the models."
      ]
    },
    {
      "cell_type": "code",
      "metadata": {
        "id": "P8veZvbj6PyM"
      },
      "source": [
        "from sklearn.model_selection import train_test_split\n",
        "y = df_new.is_canceled\n",
        "X = df_new.drop(['is_canceled'], axis=1)\n",
        "train_X, test_X, train_y, test_y = train_test_split(X, y, test_size=0.25, random_state=123)"
      ],
      "execution_count": null,
      "outputs": []
    },
    {
      "cell_type": "code",
      "metadata": {
        "id": "Xt8fcFf86RQz"
      },
      "source": [
        "from sklearn.neighbors import KNeighborsClassifier"
      ],
      "execution_count": null,
      "outputs": []
    },
    {
      "cell_type": "markdown",
      "metadata": {
        "id": "5tHvtcmQ1bKF"
      },
      "source": [
        "Fit the model"
      ]
    },
    {
      "cell_type": "code",
      "metadata": {
        "id": "SCaMcHiW6S0m",
        "outputId": "f3586717-d67c-4765-cdb7-cf9abd2e3f0d",
        "colab": {
          "base_uri": "https://localhost:8080/"
        }
      },
      "source": [
        "nn_clf = KNeighborsClassifier()\n",
        "nn_clf.fit(train_X, train_y)"
      ],
      "execution_count": null,
      "outputs": [
        {
          "output_type": "execute_result",
          "data": {
            "text/plain": [
              "KNeighborsClassifier(algorithm='auto', leaf_size=30, metric='minkowski',\n",
              "                     metric_params=None, n_jobs=None, n_neighbors=5, p=2,\n",
              "                     weights='uniform')"
            ]
          },
          "metadata": {
            "tags": []
          },
          "execution_count": 91
        }
      ]
    },
    {
      "cell_type": "code",
      "metadata": {
        "id": "5aomYkHU6UsL",
        "outputId": "78c9ea73-618d-4174-e0ef-e23b029df8d2",
        "colab": {
          "base_uri": "https://localhost:8080/"
        }
      },
      "source": [
        "nn_clf.predict(test_X)"
      ],
      "execution_count": null,
      "outputs": [
        {
          "output_type": "execute_result",
          "data": {
            "text/plain": [
              "array([1, 0, 1, ..., 0, 1, 0], dtype=int64)"
            ]
          },
          "metadata": {
            "tags": []
          },
          "execution_count": 92
        }
      ]
    },
    {
      "cell_type": "code",
      "metadata": {
        "id": "zTx5evKI6WbZ",
        "outputId": "3a600560-753a-4032-a20f-03efe3e0e19f",
        "colab": {
          "base_uri": "https://localhost:8080/"
        }
      },
      "source": [
        "nn_clf.predict_proba(test_X)"
      ],
      "execution_count": null,
      "outputs": [
        {
          "output_type": "execute_result",
          "data": {
            "text/plain": [
              "array([[0. , 1. ],\n",
              "       [1. , 0. ],\n",
              "       [0. , 1. ],\n",
              "       ...,\n",
              "       [1. , 0. ],\n",
              "       [0.2, 0.8],\n",
              "       [1. , 0. ]])"
            ]
          },
          "metadata": {
            "tags": []
          },
          "execution_count": 93
        }
      ]
    },
    {
      "cell_type": "code",
      "metadata": {
        "id": "iNjW339S6Ykq",
        "outputId": "51c6852e-e4bb-4f98-dcfd-00935b4e9e0b",
        "colab": {
          "base_uri": "https://localhost:8080/"
        }
      },
      "source": [
        "y_pred_nn = nn_clf.predict(test_X)\n",
        "print(classification_report(test_y, y_pred_nn))"
      ],
      "execution_count": null,
      "outputs": [
        {
          "output_type": "stream",
          "text": [
            "              precision    recall  f1-score   support\n",
            "\n",
            "           0       0.79      0.85      0.82     18751\n",
            "           1       0.71      0.62      0.66     10974\n",
            "\n",
            "    accuracy                           0.77     29725\n",
            "   macro avg       0.75      0.74      0.74     29725\n",
            "weighted avg       0.76      0.77      0.76     29725\n",
            "\n"
          ],
          "name": "stdout"
        }
      ]
    },
    {
      "cell_type": "markdown",
      "metadata": {
        "id": "fPcaMoa-zo_i"
      },
      "source": [
        "For 0 (did not cancel):\n",
        "- 79% precision: out of the customers we predicted will not cancel, 79% of them actually did not\n",
        "- 85% recall: out of the customers who actually did not cancel, 85% of them did we predict would not cancel\n",
        "- 82% f1-score: the harmonic mean rather than the normal mean of precision and recall for not cancel\n",
        "\n",
        "For 1 (cancel):\n",
        "- 71% precision: out of the customer we predicted will cancel, 71% of them actually did\n",
        "- 62% recall: out of the customers who actually did cancel, 62% of them did we predict would cancel\n",
        "- 66% f1-score: the harmonic mean rather than the normal mean of precision and recall for cancel\n",
        "\n",
        "In general, the model preformed better on predicting the customers who actually did not cancel as seen in the higher recall and f1-score."
      ]
    },
    {
      "cell_type": "code",
      "metadata": {
        "id": "uK1Fanjd6a-B",
        "outputId": "f929837c-9969-485a-ba55-509f97fbe525",
        "colab": {
          "base_uri": "https://localhost:8080/"
        }
      },
      "source": [
        "# Different number of neighbors used for prediction\n",
        "for n_neighbors in [1, 5, 10, 15]:\n",
        "    #  Build the classifier\n",
        "    nn_clf = KNeighborsClassifier(n_neighbors=n_neighbors)\n",
        "    \n",
        "    # Train it\n",
        "    nn_clf.fit(train_X, train_y)\n",
        "    \n",
        "    # Make predictions on the test set\n",
        "    y_pred_nn = nn_clf.predict(test_X)\n",
        "    \n",
        "    # Print the classification report\n",
        "    print(f'{n_neighbors} neighbors')\n",
        "    print(classification_report(test_y, y_pred_nn))\n",
        "    print('='*40)"
      ],
      "execution_count": null,
      "outputs": [
        {
          "output_type": "stream",
          "text": [
            "1 neighbors\n",
            "              precision    recall  f1-score   support\n",
            "\n",
            "           0       0.83      0.82      0.82     18751\n",
            "           1       0.69      0.70      0.70     10974\n",
            "\n",
            "    accuracy                           0.78     29725\n",
            "   macro avg       0.76      0.76      0.76     29725\n",
            "weighted avg       0.78      0.78      0.78     29725\n",
            "\n",
            "========================================\n",
            "5 neighbors\n",
            "              precision    recall  f1-score   support\n",
            "\n",
            "           0       0.79      0.85      0.82     18751\n",
            "           1       0.71      0.62      0.66     10974\n",
            "\n",
            "    accuracy                           0.77     29725\n",
            "   macro avg       0.75      0.74      0.74     29725\n",
            "weighted avg       0.76      0.77      0.76     29725\n",
            "\n",
            "========================================\n",
            "10 neighbors\n",
            "              precision    recall  f1-score   support\n",
            "\n",
            "           0       0.77      0.91      0.83     18751\n",
            "           1       0.77      0.53      0.63     10974\n",
            "\n",
            "    accuracy                           0.77     29725\n",
            "   macro avg       0.77      0.72      0.73     29725\n",
            "weighted avg       0.77      0.77      0.76     29725\n",
            "\n",
            "========================================\n",
            "15 neighbors\n",
            "              precision    recall  f1-score   support\n",
            "\n",
            "           0       0.77      0.88      0.82     18751\n",
            "           1       0.72      0.55      0.62     10974\n",
            "\n",
            "    accuracy                           0.76     29725\n",
            "   macro avg       0.75      0.71      0.72     29725\n",
            "weighted avg       0.75      0.76      0.75     29725\n",
            "\n",
            "========================================\n"
          ],
          "name": "stdout"
        }
      ]
    },
    {
      "cell_type": "code",
      "metadata": {
        "id": "gRjiIRC16czo",
        "outputId": "a6935ce6-7c6e-4ac6-db47-d86e71255616",
        "colab": {
          "base_uri": "https://localhost:8080/"
        }
      },
      "source": [
        "knn = KNeighborsClassifier(n_neighbors=1)\n",
        "knn.fit(train_X, train_y)\n",
        "\n",
        "preds = knn.predict(test_X)\n",
        "\n",
        "acc = knn.score(test_X, test_y)\n",
        "print(f'Test set accuracy: {100*acc:.2f}%')"
      ],
      "execution_count": null,
      "outputs": [
        {
          "output_type": "stream",
          "text": [
            "Test set accuracy: 77.60%\n"
          ],
          "name": "stdout"
        }
      ]
    },
    {
      "cell_type": "code",
      "metadata": {
        "id": "JBgo_nI4TwAw",
        "outputId": "bed47289-924b-453d-d6e6-3e9085ce995a",
        "colab": {
          "base_uri": "https://localhost:8080/"
        }
      },
      "source": [
        "import joblib                   #Save model\n",
        "joblib.dump(knn, drive_dir + 'nn_model.joblib')"
      ],
      "execution_count": null,
      "outputs": [
        {
          "output_type": "execute_result",
          "data": {
            "text/plain": [
              "['/content/drive/My Drive/Project3_HotelBookings/nn_model.joblib']"
            ]
          },
          "metadata": {
            "tags": []
          },
          "execution_count": 97
        }
      ]
    },
    {
      "cell_type": "markdown",
      "metadata": {
        "id": "NhmxNOSDXM01"
      },
      "source": [
        "## XGBoost"
      ]
    },
    {
      "cell_type": "markdown",
      "metadata": {
        "id": "rVTDr39eGTsV"
      },
      "source": [
        "Below is a XGBoost model. This is a decision tree based model with boosting that allows us to get better predictions."
      ]
    },
    {
      "cell_type": "code",
      "metadata": {
        "id": "9E4oeXQ3urnS"
      },
      "source": [
        "df_encoded = df_new"
      ],
      "execution_count": null,
      "outputs": []
    },
    {
      "cell_type": "code",
      "metadata": {
        "id": "NFhQb6LYux5x"
      },
      "source": [
        "from sklearn.model_selection import train_test_split\n",
        "y = df_encoded.is_canceled\n",
        "X = df_encoded.drop(['is_canceled'], axis=1)\n",
        "train_X, test_X, train_y, test_y = train_test_split(X, y, test_size=0.25, random_state=123)"
      ],
      "execution_count": null,
      "outputs": []
    },
    {
      "cell_type": "code",
      "metadata": {
        "id": "M6WbcO9E0JY-"
      },
      "source": [
        "import xgboost as xgb\n",
        "model = xgb.XGBClassifier()\n",
        "train_model = model.fit(train_X, train_y)"
      ],
      "execution_count": null,
      "outputs": []
    },
    {
      "cell_type": "markdown",
      "metadata": {
        "id": "0kqMc-yiGbN9"
      },
      "source": [
        "As you can see about 81% accuracy."
      ]
    },
    {
      "cell_type": "code",
      "metadata": {
        "id": "BIO2-acO0P-K",
        "outputId": "92241aa7-a4ee-493a-faa4-3f115473fc64",
        "colab": {
          "base_uri": "https://localhost:8080/"
        }
      },
      "source": [
        "from sklearn.metrics import accuracy_score\n",
        "pred2 = model.predict(test_X)\n",
        "print(\"Accuracy for model: %.2f\" % (accuracy_score(test_y, pred2) * 100))"
      ],
      "execution_count": null,
      "outputs": [
        {
          "output_type": "stream",
          "text": [
            "Accuracy for model: 80.99\n"
          ],
          "name": "stdout"
        }
      ]
    },
    {
      "cell_type": "markdown",
      "metadata": {
        "id": "W5xheskZGeo1"
      },
      "source": [
        "Now we can plot the feature importances."
      ]
    },
    {
      "cell_type": "code",
      "metadata": {
        "id": "iVDXfphQIInu"
      },
      "source": [
        "featuredf = pd.DataFrame(model.feature_importances_, train_X.columns)   #This makes it in order\n",
        "featuredf = featuredf.sort_values(by=0, ascending=False)"
      ],
      "execution_count": null,
      "outputs": []
    },
    {
      "cell_type": "code",
      "metadata": {
        "id": "Oxk5JXCz0TzM",
        "outputId": "2ff2a33c-b341-4158-af70-e44f2d164950",
        "colab": {
          "base_uri": "https://localhost:8080/",
          "height": 546
        }
      },
      "source": [
        "plt.figure(figsize=(25, 8))\n",
        "\n",
        "x = featuredf.index\n",
        "y = featuredf[0]\n",
        "\n",
        "plt.bar(x, y)\n",
        "plt.xticks(rotation=45, fontsize=18);\n",
        "plt.xticks([0,1,2,3,4,5,6,7,8,9,10,11,12,13,14,15], ['Non-refund', 'Required Car Parking Spaces','Previous Cancellations', 'Total of Special Requests', 'From Portugal', 'Travel Service', 'Rate ($)','Booking Changes','Lead Time','Previous Booking not Canceled', 'Waiting list (Days)', 'Guest', 'Arrival Date (Month)', 'Arrival Date (Day of Month)','Repeated Guest','Total Bookings'], fontsize =16)\n",
        "\n",
        "plt.ylabel('Importance', fontsize =18)\n",
        "plt.title('Model Features', fontsize =20);"
      ],
      "execution_count": null,
      "outputs": [
        {
          "output_type": "display_data",
          "data": {
            "image/png": "[encoded data removed]",
            "text/plain": [
              "<Figure size 1800x576 with 1 Axes>"
            ]
          },
          "metadata": {
            "tags": []
          }
        }
      ]
    },
    {
      "cell_type": "code",
      "metadata": {
        "id": "iMr3bcaWu3cW",
        "outputId": "87cc1179-9eab-4158-c9ab-d892515052c2",
        "colab": {
          "base_uri": "https://localhost:8080/"
        }
      },
      "source": [
        "from sklearn.metrics import classification_report\n",
        "\n",
        "\n",
        "preds = model.predict(test_X)\n",
        "\n",
        "print(classification_report(test_y, preds))"
      ],
      "execution_count": null,
      "outputs": [
        {
          "output_type": "stream",
          "text": [
            "              precision    recall  f1-score   support\n",
            "\n",
            "           0       0.81      0.92      0.86     18751\n",
            "           1       0.82      0.62      0.71     10974\n",
            "\n",
            "    accuracy                           0.81     29725\n",
            "   macro avg       0.81      0.77      0.78     29725\n",
            "weighted avg       0.81      0.81      0.80     29725\n",
            "\n"
          ],
          "name": "stdout"
        }
      ]
    },
    {
      "cell_type": "markdown",
      "metadata": {
        "id": "Onqgkglwu5iu"
      },
      "source": [
        "For 0 (did not cancel):\n",
        "\n",
        "- 81% precision: out of the customers we predicted will not cancel, 81% of them actually did not\n",
        "- 92% recall: out of the customers who actually did not cancel, 92% of them did we predict would not cancel\n",
        "- 86% f1-score: the harmonic mean rather than the normal mean of precision and recall for not cancel\n",
        "\n",
        "For 1 (cancel):\n",
        "\n",
        "- 82% precision: out of the customer we predicted will cancel, 82% of them actually did\n",
        "- 62% recall: out of the customers who actually did cancel, 62% of them did we predict would cancel\n",
        "- 71% f1-score: the harmonic mean rather than the normal mean of precision and recall for cancel"
      ]
    },
    {
      "cell_type": "markdown",
      "metadata": {
        "id": "eHfZCy6XGmqV"
      },
      "source": [
        "Not bad at all. The precision is very impressive. The recall shows us that our model struggle to predict the is canceled correct sometimes but overall performs well."
      ]
    },
    {
      "cell_type": "code",
      "metadata": {
        "id": "9Y0qcOePUbZI",
        "outputId": "1cdaa6e7-1fe4-4922-d887-ab3a478ba22f",
        "colab": {
          "base_uri": "https://localhost:8080/"
        }
      },
      "source": [
        "import joblib                 #Save Model\n",
        "joblib.dump(model, drive_dir + 'xg_model.joblib')"
      ],
      "execution_count": null,
      "outputs": [
        {
          "output_type": "execute_result",
          "data": {
            "text/plain": [
              "['/content/drive/My Drive/Project3_HotelBookings/xg_model.joblib']"
            ]
          },
          "metadata": {
            "tags": []
          },
          "execution_count": 105
        }
      ]
    },
    {
      "cell_type": "markdown",
      "metadata": {
        "id": "Vot5VFyQ2aGE"
      },
      "source": [
        "## Logistic Regression"
      ]
    },
    {
      "cell_type": "markdown",
      "metadata": {
        "id": "VOXRUbvRQuqS"
      },
      "source": [
        "Fit the model for logistic regression we use max_inter to have a better accuracy."
      ]
    },
    {
      "cell_type": "code",
      "metadata": {
        "id": "eiazJEY1Kd_O",
        "outputId": "28261bd6-18cd-42e5-8cfd-69cf31573903",
        "colab": {
          "base_uri": "https://localhost:8080/"
        }
      },
      "source": [
        "clf = LogisticRegression(max_iter=10000)\n",
        "\n",
        "X_scaled = preprocessing.scale(train_X)\n",
        "\n",
        "scaler = preprocessing.StandardScaler().fit(train_X)\n",
        "scaler\n",
        "StandardScaler()\n",
        "\n",
        "min_max_scaler = preprocessing.MinMaxScaler()\n",
        "train_X_minmax = min_max_scaler.fit_transform(train_X)\n",
        "train_X_minmax\n",
        "clf.fit(train_X, train_y)"
      ],
      "execution_count": null,
      "outputs": [
        {
          "output_type": "execute_result",
          "data": {
            "text/plain": [
              "LogisticRegression(C=1.0, class_weight=None, dual=False, fit_intercept=True,\n",
              "                   intercept_scaling=1, l1_ratio=None, max_iter=10000,\n",
              "                   multi_class='auto', n_jobs=None, penalty='l2',\n",
              "                   random_state=None, solver='lbfgs', tol=0.0001, verbose=0,\n",
              "                   warm_start=False)"
            ]
          },
          "metadata": {
            "tags": []
          },
          "execution_count": 106
        }
      ]
    },
    {
      "cell_type": "code",
      "metadata": {
        "id": "QMsPb45zKgSd",
        "outputId": "415d5a44-400d-47a1-c497-fd119911eba4",
        "colab": {
          "base_uri": "https://localhost:8080/"
        }
      },
      "source": [
        "y_pred = clf.predict(test_X)\n",
        "\n",
        "print(classification_report(test_y, y_pred))"
      ],
      "execution_count": null,
      "outputs": [
        {
          "output_type": "stream",
          "text": [
            "              precision    recall  f1-score   support\n",
            "\n",
            "           0       0.77      0.93      0.84     18751\n",
            "           1       0.81      0.54      0.65     10974\n",
            "\n",
            "    accuracy                           0.78     29725\n",
            "   macro avg       0.79      0.73      0.75     29725\n",
            "weighted avg       0.79      0.78      0.77     29725\n",
            "\n"
          ],
          "name": "stdout"
        }
      ]
    },
    {
      "cell_type": "markdown",
      "metadata": {
        "id": "J-uGc_-NRt6P"
      },
      "source": [
        "For 0 (did not cancel):\n",
        "\n",
        "- 77% precision: out of the customers we predicted will not cancel, 77% of them actually did not\n",
        "- 93% recall: out of the customers who actually did not cancel, 93% of them did we predict would not cancel\n",
        "- 84% f1-score: the harmonic mean rather than the normal mean of precision and recall for not cancel\n",
        "\n",
        "For 1 (cancel):\n",
        "\n",
        "- 81% precision: out of the customer we predicted will cancel, 81% of them actually did\n",
        "- 54% recall: out of the customers who actually did cancel, 54% of them did we predict would cancel\n",
        "- 65% f1-score: the harmonic mean rather than the normal mean of precision and recall for cancel\n"
      ]
    },
    {
      "cell_type": "code",
      "metadata": {
        "id": "k9AVnAydU_9D",
        "outputId": "83f44721-e821-4527-e9a9-a92935afbc81",
        "colab": {
          "base_uri": "https://localhost:8080/"
        }
      },
      "source": [
        "import joblib \n",
        "joblib.dump(clf, drive_dir + 'log_model.joblib')"
      ],
      "execution_count": null,
      "outputs": [
        {
          "output_type": "execute_result",
          "data": {
            "text/plain": [
              "['/content/drive/My Drive/Project3_HotelBookings/log_model.joblib']"
            ]
          },
          "metadata": {
            "tags": []
          },
          "execution_count": 108
        }
      ]
    },
    {
      "cell_type": "markdown",
      "metadata": {
        "id": "Kog2kRh6P3xS"
      },
      "source": [
        "## Ensemble"
      ]
    },
    {
      "cell_type": "markdown",
      "metadata": {
        "id": "M9w82KKSGxgJ"
      },
      "source": [
        "Let's ensemble our models just to see if it performs better."
      ]
    },
    {
      "cell_type": "code",
      "metadata": {
        "id": "D-z239KWP7vR"
      },
      "source": [
        "nn_preds = knn.predict(test_X)      #Save all the predictions\n",
        "log_preds = clf.predict(test_X)\n",
        "XG_preds = model.predict(test_X)"
      ],
      "execution_count": null,
      "outputs": []
    },
    {
      "cell_type": "markdown",
      "metadata": {
        "id": "Hu7yNoDQG2Xw"
      },
      "source": [
        "Below we are going to look at each prediction for one row of test data. If 2 or more of the models predicted yes then we go with yes it did cancel, otherwise we predict that it did not cancel."
      ]
    },
    {
      "cell_type": "code",
      "metadata": {
        "id": "5w3mMo-dWB5f"
      },
      "source": [
        "predictions = np.zeros(test_X.shape[0])\n",
        "for pred in range(test_X.shape[0]):\n",
        "  nn = nn_preds[pred]\n",
        "  log = log_preds[pred]\n",
        "  XG = XG_preds[pred]\n",
        "\n",
        "  if nn+log+XG >= 2:\n",
        "    predictions[pred] = 1\n",
        "  else:\n",
        "    predictions[pred] = 0"
      ],
      "execution_count": null,
      "outputs": []
    },
    {
      "cell_type": "code",
      "metadata": {
        "id": "B9Bqgs7-XHP4",
        "outputId": "062ec8ea-b223-4416-e7a9-221b1d932fd6",
        "colab": {
          "base_uri": "https://localhost:8080/"
        }
      },
      "source": [
        "print(classification_report(test_y, predictions))"
      ],
      "execution_count": null,
      "outputs": [
        {
          "output_type": "stream",
          "text": [
            "              precision    recall  f1-score   support\n",
            "\n",
            "           0       0.80      0.94      0.86     18751\n",
            "           1       0.86      0.60      0.70     10974\n",
            "\n",
            "    accuracy                           0.81     29725\n",
            "   macro avg       0.83      0.77      0.78     29725\n",
            "weighted avg       0.82      0.81      0.80     29725\n",
            "\n"
          ],
          "name": "stdout"
        }
      ]
    },
    {
      "cell_type": "markdown",
      "metadata": {
        "id": "Y9FVd15eHfbF"
      },
      "source": [
        "We can see this did not perform better than the XGBoost model."
      ]
    }
  ]
}